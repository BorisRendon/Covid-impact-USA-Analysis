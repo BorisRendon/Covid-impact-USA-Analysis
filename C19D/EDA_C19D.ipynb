{
 "metadata": {
  "language_info": {
   "codemirror_mode": {
    "name": "ipython",
    "version": 3
   },
   "file_extension": ".py",
   "mimetype": "text/x-python",
   "name": "python",
   "nbconvert_exporter": "python",
   "pygments_lexer": "ipython3",
   "version": "3.8.6"
  },
  "orig_nbformat": 2,
  "kernelspec": {
   "name": "pythonjvsc74a57bd0c61731d8f7c4f1da77cbad515f8c2ebe6cb7e230b50f067f2e33022859eb5993",
   "display_name": "Python 3.8.6 64-bit"
  }
 },
 "nbformat": 4,
 "nbformat_minor": 2,
 "cells": [
  {
   "source": [
    "# EDA COVID-19 Activity"
   ],
   "cell_type": "markdown",
   "metadata": {}
  },
  {
   "cell_type": "code",
   "execution_count": 10,
   "metadata": {},
   "outputs": [],
   "source": [
    "import pandas as pd\n",
    "import warnings\n",
    "warnings.filterwarnings('ignore')\n",
    "warnings.simplefilter('ignore')"
   ]
  },
  {
   "cell_type": "code",
   "execution_count": 11,
   "metadata": {},
   "outputs": [
    {
     "output_type": "execute_result",
     "data": {
      "text/plain": [
       "   PEOPLE_POSITIVE_CASES_COUNT COUNTY_NAME PROVINCE_STATE_NAME REPORT_DATE  \\\n",
       "0                            0    Marshall             Alabama  2020-01-22   \n",
       "1                            0    Marshall             Alabama  2020-01-23   \n",
       "2                            0    Marshall             Alabama  2020-01-24   \n",
       "3                            0    Marshall             Alabama  2020-01-25   \n",
       "4                            0    Marshall             Alabama  2020-01-26   \n",
       "\n",
       "  CONTINENT_NAME DATA_SOURCE_NAME  PEOPLE_DEATH_NEW_COUNT  COUNTY_FIPS_NUMBER  \\\n",
       "0        America   New York Times                       0              1095.0   \n",
       "1        America   New York Times                       0              1095.0   \n",
       "2        America   New York Times                       0              1095.0   \n",
       "3        America   New York Times                       0              1095.0   \n",
       "4        America   New York Times                       0              1095.0   \n",
       "\n",
       "  COUNTRY_ALPHA_3_CODE COUNTRY_SHORT_NAME COUNTRY_ALPHA_2_CODE  \\\n",
       "0                  USA      United States                   US   \n",
       "1                  USA      United States                   US   \n",
       "2                  USA      United States                   US   \n",
       "3                  USA      United States                   US   \n",
       "4                  USA      United States                   US   \n",
       "\n",
       "   PEOPLE_POSITIVE_NEW_CASES_COUNT  PEOPLE_DEATH_COUNT  \n",
       "0                                0                   0  \n",
       "1                                0                   0  \n",
       "2                                0                   0  \n",
       "3                                0                   0  \n",
       "4                                0                   0  "
      ],
      "text/html": "<div>\n<style scoped>\n    .dataframe tbody tr th:only-of-type {\n        vertical-align: middle;\n    }\n\n    .dataframe tbody tr th {\n        vertical-align: top;\n    }\n\n    .dataframe thead th {\n        text-align: right;\n    }\n</style>\n<table border=\"1\" class=\"dataframe\">\n  <thead>\n    <tr style=\"text-align: right;\">\n      <th></th>\n      <th>PEOPLE_POSITIVE_CASES_COUNT</th>\n      <th>COUNTY_NAME</th>\n      <th>PROVINCE_STATE_NAME</th>\n      <th>REPORT_DATE</th>\n      <th>CONTINENT_NAME</th>\n      <th>DATA_SOURCE_NAME</th>\n      <th>PEOPLE_DEATH_NEW_COUNT</th>\n      <th>COUNTY_FIPS_NUMBER</th>\n      <th>COUNTRY_ALPHA_3_CODE</th>\n      <th>COUNTRY_SHORT_NAME</th>\n      <th>COUNTRY_ALPHA_2_CODE</th>\n      <th>PEOPLE_POSITIVE_NEW_CASES_COUNT</th>\n      <th>PEOPLE_DEATH_COUNT</th>\n    </tr>\n  </thead>\n  <tbody>\n    <tr>\n      <th>0</th>\n      <td>0</td>\n      <td>Marshall</td>\n      <td>Alabama</td>\n      <td>2020-01-22</td>\n      <td>America</td>\n      <td>New York Times</td>\n      <td>0</td>\n      <td>1095.0</td>\n      <td>USA</td>\n      <td>United States</td>\n      <td>US</td>\n      <td>0</td>\n      <td>0</td>\n    </tr>\n    <tr>\n      <th>1</th>\n      <td>0</td>\n      <td>Marshall</td>\n      <td>Alabama</td>\n      <td>2020-01-23</td>\n      <td>America</td>\n      <td>New York Times</td>\n      <td>0</td>\n      <td>1095.0</td>\n      <td>USA</td>\n      <td>United States</td>\n      <td>US</td>\n      <td>0</td>\n      <td>0</td>\n    </tr>\n    <tr>\n      <th>2</th>\n      <td>0</td>\n      <td>Marshall</td>\n      <td>Alabama</td>\n      <td>2020-01-24</td>\n      <td>America</td>\n      <td>New York Times</td>\n      <td>0</td>\n      <td>1095.0</td>\n      <td>USA</td>\n      <td>United States</td>\n      <td>US</td>\n      <td>0</td>\n      <td>0</td>\n    </tr>\n    <tr>\n      <th>3</th>\n      <td>0</td>\n      <td>Marshall</td>\n      <td>Alabama</td>\n      <td>2020-01-25</td>\n      <td>America</td>\n      <td>New York Times</td>\n      <td>0</td>\n      <td>1095.0</td>\n      <td>USA</td>\n      <td>United States</td>\n      <td>US</td>\n      <td>0</td>\n      <td>0</td>\n    </tr>\n    <tr>\n      <th>4</th>\n      <td>0</td>\n      <td>Marshall</td>\n      <td>Alabama</td>\n      <td>2020-01-26</td>\n      <td>America</td>\n      <td>New York Times</td>\n      <td>0</td>\n      <td>1095.0</td>\n      <td>USA</td>\n      <td>United States</td>\n      <td>US</td>\n      <td>0</td>\n      <td>0</td>\n    </tr>\n  </tbody>\n</table>\n</div>"
     },
     "metadata": {},
     "execution_count": 11
    }
   ],
   "source": [
    "df = pd.read_csv('COVID-19 Activity.csv')\n",
    "df.head()"
   ]
  },
  {
   "cell_type": "code",
   "execution_count": 12,
   "metadata": {},
   "outputs": [
    {
     "output_type": "stream",
     "name": "stdout",
     "text": [
      "<class 'pandas.core.frame.DataFrame'>\nRangeIndex: 1608976 entries, 0 to 1608975\nData columns (total 13 columns):\n #   Column                           Non-Null Count    Dtype  \n---  ------                           --------------    -----  \n 0   PEOPLE_POSITIVE_CASES_COUNT      1608976 non-null  int64  \n 1   COUNTY_NAME                      1486396 non-null  object \n 2   PROVINCE_STATE_NAME              1511820 non-null  object \n 3   REPORT_DATE                      1608976 non-null  object \n 4   CONTINENT_NAME                   1607614 non-null  object \n 5   DATA_SOURCE_NAME                 1608976 non-null  object \n 6   PEOPLE_DEATH_NEW_COUNT           1608976 non-null  int64  \n 7   COUNTY_FIPS_NUMBER               1460972 non-null  float64\n 8   COUNTRY_ALPHA_3_CODE             1607614 non-null  object \n 9   COUNTRY_SHORT_NAME               1608976 non-null  object \n 10  COUNTRY_ALPHA_2_CODE             1607160 non-null  object \n 11  PEOPLE_POSITIVE_NEW_CASES_COUNT  1608976 non-null  int64  \n 12  PEOPLE_DEATH_COUNT               1608976 non-null  int64  \ndtypes: float64(1), int64(4), object(8)\nmemory usage: 159.6+ MB\n"
     ]
    }
   ],
   "source": [
    "df.info()"
   ]
  },
  {
   "source": [
    "Existen estados de otros países"
   ],
   "cell_type": "markdown",
   "metadata": {}
  },
  {
   "cell_type": "code",
   "execution_count": 13,
   "metadata": {},
   "outputs": [
    {
     "output_type": "execute_result",
     "data": {
      "text/plain": [
       "array(['Alabama', 'Texas', 'Kentucky', 'Alaska', 'Arizona', 'Arkansas',\n",
       "       'California', 'Colorado', 'Florida', 'Georgia', 'Idaho',\n",
       "       'Connecticut', 'Illinois', 'Hawaii', 'Indiana', 'Iowa', 'Kansas',\n",
       "       'Louisiana', 'Maine', 'Maryland', 'Michigan', 'Minnesota',\n",
       "       'Massachusetts', 'Mississippi', 'Missouri', 'Montana', 'Nebraska',\n",
       "       'Nevada', 'New Hampshire', 'New Jersey', 'New Mexico', 'New York',\n",
       "       'North Carolina', 'North Dakota', 'Ohio', 'Oklahoma', 'Oregon',\n",
       "       'Pennsylvania', 'Puerto Rico', 'Rhode Island', 'South Carolina',\n",
       "       'South Dakota', 'Tennessee', 'Utah', 'Vermont', 'Virginia',\n",
       "       'Washington', 'Virgin Islands', 'West Virginia', 'Wisconsin',\n",
       "       'Wyoming', 'Delaware', 'Guam', 'Northern Mariana Islands',\n",
       "       'District of Columbia', 'Yunnan', nan, 'Guangdong', 'Chongqing',\n",
       "       'Jiangsu', 'Manitoba', 'Guangxi', 'Ontario', 'Fujian',\n",
       "       'Cruise Ships', 'Repatriated Travellers', 'British Columbia',\n",
       "       'Guizhou', 'New Brunswick', 'Tibet', 'Northern Territory',\n",
       "       'Northwest Territories', 'Hong Kong', 'Quebec', 'Hubei', 'Jiangxi',\n",
       "       'Victoria', 'Prince Edward Island', 'Xinjiang', 'Henan', 'Anhui',\n",
       "       'Saskatchewan', 'Nova Scotia', 'Shaanxi',\n",
       "       'Australian Capital Territory', 'Hebei', 'Yukon', 'Hunan',\n",
       "       'Hainan', 'Shanxi', 'Western Australia', 'New South Wales',\n",
       "       'Tasmania', 'Jilin', 'Newfoundland and Labrador', 'Gansu',\n",
       "       'Heilongjiang', 'Shandong', 'Shanghai', 'Beijing', 'Sichuan',\n",
       "       'Alberta', 'Inner Mongolia', 'Zhejiang', 'Nunavut', 'Macau',\n",
       "       'Queensland', 'Tianjin', 'Liaoning', 'Qinghai', 'South Australia',\n",
       "       'Ningxia'], dtype=object)"
      ]
     },
     "metadata": {},
     "execution_count": 13
    }
   ],
   "source": [
    "df['PROVINCE_STATE_NAME'].unique()"
   ]
  },
  {
   "source": [
    "Hay data de otros continentes"
   ],
   "cell_type": "markdown",
   "metadata": {}
  },
  {
   "cell_type": "code",
   "execution_count": 14,
   "metadata": {},
   "outputs": [
    {
     "output_type": "execute_result",
     "data": {
      "text/plain": [
       "array(['America', 'Asia', 'Europe', 'Africa', 'Oceania', nan],\n",
       "      dtype=object)"
      ]
     },
     "metadata": {},
     "execution_count": 14
    }
   ],
   "source": [
    "df['CONTINENT_NAME'].unique()"
   ]
  },
  {
   "source": [
    "Info que quizá no sean necesaria:\n",
    "\n",
    "* COUNTY_FIPS_NUMBER * si esto equivale a zipcode entonces si es necesaria\n",
    "* COUNTRY_ALPHA_3_CODE\n",
    "* DATA_SOURCE_NAME"
   ],
   "cell_type": "markdown",
   "metadata": {}
  },
  {
   "source": [
    "Info que quizá desechemos al elegir solo la data que nos vaya a servir:\n",
    "\n",
    "* CONTINENT_NAME\n",
    "* COUNTRY_SHORT_NAME\n",
    "* COUNTRY_ALPHA_2_CODE"
   ],
   "cell_type": "markdown",
   "metadata": {}
  },
  {
   "source": [
    "Columnas con las que nos quedaríamos:\n",
    "\n",
    "* PEOPLE_POSITIVE_CASES_COUNT\n",
    "* COUNTY_NAME\n",
    "* PROVINCE_STATE_NAME\n",
    "* REPORT_DATE\n",
    "* PEOPLE_DEATH_NEW_COUNT\n",
    "* PEOPLE_POSITIVE_NEW_CASES_COUNT\n",
    "* PEOPLE_DEATH_COUNT"
   ],
   "cell_type": "markdown",
   "metadata": {}
  }
 ]
}