{
 "cells": [
  {
   "cell_type": "code",
   "execution_count": 1,
   "id": "induced-press",
   "metadata": {},
   "outputs": [],
   "source": [
    "import boto3\n",
    "import sys\n",
    "import hashlib\n",
    "import os\n"
   ]
  },
  {
   "cell_type": "code",
   "execution_count": 2,
   "id": "future-english",
   "metadata": {},
   "outputs": [],
   "source": [
    "os.environ['AWS_ACCESS_KEY_ID'] = 'null'\n",
    "os.environ['AWS_SECRET_ACCESS_KEY'] = 'null'\n",
    "client = boto3.client('s3')\n",
    "BUCKET = 'ufm-bi-2021'\n",
    "response = client.list_objects(\n",
    "    Bucket=BUCKET,\n",
    ")"
   ]
  },
  {
   "cell_type": "code",
   "execution_count": 3,
   "id": "following-court",
   "metadata": {},
   "outputs": [],
   "source": [
    "files_to_download = [obj['Key'] for obj in response['Contents']]\n",
    "dicta = [None] * len(files_to_download)\n",
    "for i in range(len(files_to_download)):\n",
    "    dicta[i] = files_to_download[i].rsplit('/', 1)[-1]"
   ]
  },
  {
   "cell_type": "code",
   "execution_count": 8,
   "id": "arbitrary-cabin",
   "metadata": {},
   "outputs": [
    {
     "data": {
      "text/plain": [
       "57"
      ]
     },
     "execution_count": 8,
     "metadata": {},
     "output_type": "execute_result"
    }
   ],
   "source": [
    "len(files_to_download)"
   ]
  },
  {
   "cell_type": "code",
   "execution_count": 5,
   "id": "negative-character",
   "metadata": {},
   "outputs": [],
   "source": [
    "#downloading files\n",
    "for j in range(len(dicta)):\n",
    "    with open(str(dicta[j]), 'wb') as data:\n",
    "        client.download_fileobj(BUCKET, files_to_download[j], data)"
   ]
  }
 ],
 "metadata": {
  "kernelspec": {
   "display_name": "Python 3",
   "language": "python",
   "name": "python3"
  },
  "language_info": {
   "codemirror_mode": {
    "name": "ipython",
    "version": 3
   },
   "file_extension": ".py",
   "mimetype": "text/x-python",
   "name": "python",
   "nbconvert_exporter": "python",
   "pygments_lexer": "ipython3",
   "version": "3.8.7"
  }
 },
 "nbformat": 4,
 "nbformat_minor": 5
}
