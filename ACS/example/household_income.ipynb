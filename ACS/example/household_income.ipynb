{
 "metadata": {
  "language_info": {
   "codemirror_mode": {
    "name": "ipython",
    "version": 3
   },
   "file_extension": ".py",
   "mimetype": "text/x-python",
   "name": "python",
   "nbconvert_exporter": "python",
   "pygments_lexer": "ipython3",
   "version": "3.8.6-candidate1"
  },
  "orig_nbformat": 2,
  "kernelspec": {
   "name": "python386jvsc74a57bd0c61731d8f7c4f1da77cbad515f8c2ebe6cb7e230b50f067f2e33022859eb5993",
   "display_name": "Python 3.8.6 64-bit"
  }
 },
 "nbformat": 4,
 "nbformat_minor": 2,
 "cells": [
  {
   "source": [
    "# Analysis for household income in Alaska, Florida & Kentuky (example)"
   ],
   "cell_type": "markdown",
   "metadata": {}
  },
  {
   "cell_type": "code",
   "execution_count": 1,
   "metadata": {},
   "outputs": [],
   "source": [
    "import pandas as pd\n",
    "import warnings\n",
    "warnings.filterwarnings('ignore')\n",
    "\n",
    "import sqlalchemy as db"
   ]
  },
  {
   "source": [
    "The variables we're going to use are: \n",
    "\n",
    "* b19001_002: Less than 10,000\n",
    "* b19001_003: 10,000 to 14,999\n",
    "* b19001_004: 15,000 to 19,999\n",
    "* b19001_005: 20,000 to 24,999\n",
    "* b19001_006: 25,000 to 29,999\n",
    "* b19001_007: 30,000 to 34,999\n",
    "* b19001_008: 35,000 to 39,999\n",
    "* b19001_009: 40,000 to 44,999\n",
    "* b19001_010: 45,000 to 49,999\n",
    "* b19001_011: 50,000 to 59,999\n",
    "* b19001_012: 60,000 to 74,999\n",
    "* b19001_013: 75,000 to 99,999\n",
    "* b19001_014: 100,000 to 124,999\n",
    "* b19001_015: 125,000 to 149,999\n",
    "* b19001_016: 150,000 to 199,999\n",
    "* b19001_017: 200,000 or more\n",
    "\n",
    "<i>All of them span HOUSEHOLD INCOME IN THE PAST 12 MONTHS (IN 2016 INFLATION-ADJUSTED DOLLARS) for Households and are in USD</i>"
   ],
   "cell_type": "markdown",
   "metadata": {}
  },
  {
   "cell_type": "code",
   "execution_count": 2,
   "metadata": {},
   "outputs": [
    {
     "output_type": "execute_result",
     "data": {
      "text/plain": [
       "   SummaryLevel State  StateFIPS  CountyFIPS  PlaceFIPS  CBSACode  \\\n",
       "0            40    AK          2         NaN        NaN       NaN   \n",
       "1            40    AK          2         NaN        NaN       NaN   \n",
       "2            40    AK          2         NaN        NaN       NaN   \n",
       "3            40    AK          2         NaN        NaN       NaN   \n",
       "4            40    AK          2         NaN        NaN       NaN   \n",
       "\n",
       "   CongressDistrict      GEOID  \\\n",
       "0               NaN  04000US02   \n",
       "1               NaN  04001US02   \n",
       "2               NaN  04043US02   \n",
       "3               NaN  040A0US02   \n",
       "4               NaN  040C0US02   \n",
       "\n",
       "                                            AreaName  B19001_001  ...  \\\n",
       "0                                             Alaska      250235  ...   \n",
       "1                                    Alaska -- Urban      168119  ...   \n",
       "2                                    Alaska -- Rural       82116  ...   \n",
       "3  Alaska -- In metropolitan or micropolitan stat...      188458  ...   \n",
       "4         Alaska -- In metropolitan statistical area      171111  ...   \n",
       "\n",
       "   B19325_093  B19325_094  B19325_095  B19326_001  B19326_002  B19326_003  \\\n",
       "0        2953        3527        2450       31944       40197       61240   \n",
       "1        1956        2310        1627       33836       40946       59243   \n",
       "2         997        1217         823       28349       37352       64788   \n",
       "3        2204        2836        1992       34540       42064       61477   \n",
       "4        1964        2571        1795       34084       41964       61323   \n",
       "\n",
       "   B19326_004  B19326_005  B19326_006  B19326_007  \n",
       "0       19058       25706       47792       13310  \n",
       "1       19045       27811       48469       14038  \n",
       "2       19075       21066       46371       12117  \n",
       "3       19987       27493       48710       13804  \n",
       "4       20027       27024       48560       13568  \n",
       "\n",
       "[5 rows x 1505 columns]"
      ],
      "text/html": "<div>\n<style scoped>\n    .dataframe tbody tr th:only-of-type {\n        vertical-align: middle;\n    }\n\n    .dataframe tbody tr th {\n        vertical-align: top;\n    }\n\n    .dataframe thead th {\n        text-align: right;\n    }\n</style>\n<table border=\"1\" class=\"dataframe\">\n  <thead>\n    <tr style=\"text-align: right;\">\n      <th></th>\n      <th>SummaryLevel</th>\n      <th>State</th>\n      <th>StateFIPS</th>\n      <th>CountyFIPS</th>\n      <th>PlaceFIPS</th>\n      <th>CBSACode</th>\n      <th>CongressDistrict</th>\n      <th>GEOID</th>\n      <th>AreaName</th>\n      <th>B19001_001</th>\n      <th>...</th>\n      <th>B19325_093</th>\n      <th>B19325_094</th>\n      <th>B19325_095</th>\n      <th>B19326_001</th>\n      <th>B19326_002</th>\n      <th>B19326_003</th>\n      <th>B19326_004</th>\n      <th>B19326_005</th>\n      <th>B19326_006</th>\n      <th>B19326_007</th>\n    </tr>\n  </thead>\n  <tbody>\n    <tr>\n      <th>0</th>\n      <td>40</td>\n      <td>AK</td>\n      <td>2</td>\n      <td>NaN</td>\n      <td>NaN</td>\n      <td>NaN</td>\n      <td>NaN</td>\n      <td>04000US02</td>\n      <td>Alaska</td>\n      <td>250235</td>\n      <td>...</td>\n      <td>2953</td>\n      <td>3527</td>\n      <td>2450</td>\n      <td>31944</td>\n      <td>40197</td>\n      <td>61240</td>\n      <td>19058</td>\n      <td>25706</td>\n      <td>47792</td>\n      <td>13310</td>\n    </tr>\n    <tr>\n      <th>1</th>\n      <td>40</td>\n      <td>AK</td>\n      <td>2</td>\n      <td>NaN</td>\n      <td>NaN</td>\n      <td>NaN</td>\n      <td>NaN</td>\n      <td>04001US02</td>\n      <td>Alaska -- Urban</td>\n      <td>168119</td>\n      <td>...</td>\n      <td>1956</td>\n      <td>2310</td>\n      <td>1627</td>\n      <td>33836</td>\n      <td>40946</td>\n      <td>59243</td>\n      <td>19045</td>\n      <td>27811</td>\n      <td>48469</td>\n      <td>14038</td>\n    </tr>\n    <tr>\n      <th>2</th>\n      <td>40</td>\n      <td>AK</td>\n      <td>2</td>\n      <td>NaN</td>\n      <td>NaN</td>\n      <td>NaN</td>\n      <td>NaN</td>\n      <td>04043US02</td>\n      <td>Alaska -- Rural</td>\n      <td>82116</td>\n      <td>...</td>\n      <td>997</td>\n      <td>1217</td>\n      <td>823</td>\n      <td>28349</td>\n      <td>37352</td>\n      <td>64788</td>\n      <td>19075</td>\n      <td>21066</td>\n      <td>46371</td>\n      <td>12117</td>\n    </tr>\n    <tr>\n      <th>3</th>\n      <td>40</td>\n      <td>AK</td>\n      <td>2</td>\n      <td>NaN</td>\n      <td>NaN</td>\n      <td>NaN</td>\n      <td>NaN</td>\n      <td>040A0US02</td>\n      <td>Alaska -- In metropolitan or micropolitan stat...</td>\n      <td>188458</td>\n      <td>...</td>\n      <td>2204</td>\n      <td>2836</td>\n      <td>1992</td>\n      <td>34540</td>\n      <td>42064</td>\n      <td>61477</td>\n      <td>19987</td>\n      <td>27493</td>\n      <td>48710</td>\n      <td>13804</td>\n    </tr>\n    <tr>\n      <th>4</th>\n      <td>40</td>\n      <td>AK</td>\n      <td>2</td>\n      <td>NaN</td>\n      <td>NaN</td>\n      <td>NaN</td>\n      <td>NaN</td>\n      <td>040C0US02</td>\n      <td>Alaska -- In metropolitan statistical area</td>\n      <td>171111</td>\n      <td>...</td>\n      <td>1964</td>\n      <td>2571</td>\n      <td>1795</td>\n      <td>34084</td>\n      <td>41964</td>\n      <td>61323</td>\n      <td>20027</td>\n      <td>27024</td>\n      <td>48560</td>\n      <td>13568</td>\n    </tr>\n  </tbody>\n</table>\n<p>5 rows × 1505 columns</p>\n</div>"
     },
     "metadata": {},
     "execution_count": 2
    }
   ],
   "source": [
    "alaska_raw = pd.read_csv('AK.csv')\n",
    "alaska_raw.head()"
   ]
  },
  {
   "source": [
    "For this example, we're going to use the first row for each state and the variables:\n",
    "\n",
    "* State\n",
    "* b19001_002\n",
    "* b19001_003\n",
    "* b19001_004\n",
    "* b19001_005\n",
    "* b19001_006\n",
    "* b19001_007\n",
    "* b19001_008\n",
    "* b19001_009\n",
    "* b19001_010\n",
    "* b19001_011\n",
    "* b19001_012\n",
    "* b19001_013\n",
    "* b19001_014\n",
    "* b19001_015\n",
    "* b19001_016\n",
    "* b19001_017"
   ],
   "cell_type": "markdown",
   "metadata": {}
  },
  {
   "cell_type": "code",
   "execution_count": 3,
   "metadata": {},
   "outputs": [],
   "source": [
    "income_cols = ['State', 'B19001_002', 'B19001_003', 'B19001_004', 'B19001_005', 'B19001_006', 'B19001_007', 'B19001_008', 'B19001_009', 'B19001_010', 'B19001_011', 'B19001_012', 'B19001_013', 'B19001_014', 'B19001_015', 'B19001_016', 'B19001_017']"
   ]
  },
  {
   "cell_type": "code",
   "execution_count": 4,
   "metadata": {},
   "outputs": [
    {
     "output_type": "execute_result",
     "data": {
      "text/plain": [
       "  State  B19001_002  B19001_003  B19001_004  B19001_005  B19001_006  \\\n",
       "0    AK        9216        8418        8345        9349        8311   \n",
       "\n",
       "   B19001_007  B19001_008  B19001_009  B19001_010  B19001_011  B19001_012  \\\n",
       "0        9295        9504       10355        8585       17878       26891   \n",
       "\n",
       "   B19001_013  B19001_014  B19001_015  B19001_016  B19001_017  \n",
       "0       36934       28526       19613       22037       16978  "
      ],
      "text/html": "<div>\n<style scoped>\n    .dataframe tbody tr th:only-of-type {\n        vertical-align: middle;\n    }\n\n    .dataframe tbody tr th {\n        vertical-align: top;\n    }\n\n    .dataframe thead th {\n        text-align: right;\n    }\n</style>\n<table border=\"1\" class=\"dataframe\">\n  <thead>\n    <tr style=\"text-align: right;\">\n      <th></th>\n      <th>State</th>\n      <th>B19001_002</th>\n      <th>B19001_003</th>\n      <th>B19001_004</th>\n      <th>B19001_005</th>\n      <th>B19001_006</th>\n      <th>B19001_007</th>\n      <th>B19001_008</th>\n      <th>B19001_009</th>\n      <th>B19001_010</th>\n      <th>B19001_011</th>\n      <th>B19001_012</th>\n      <th>B19001_013</th>\n      <th>B19001_014</th>\n      <th>B19001_015</th>\n      <th>B19001_016</th>\n      <th>B19001_017</th>\n    </tr>\n  </thead>\n  <tbody>\n    <tr>\n      <th>0</th>\n      <td>AK</td>\n      <td>9216</td>\n      <td>8418</td>\n      <td>8345</td>\n      <td>9349</td>\n      <td>8311</td>\n      <td>9295</td>\n      <td>9504</td>\n      <td>10355</td>\n      <td>8585</td>\n      <td>17878</td>\n      <td>26891</td>\n      <td>36934</td>\n      <td>28526</td>\n      <td>19613</td>\n      <td>22037</td>\n      <td>16978</td>\n    </tr>\n  </tbody>\n</table>\n</div>"
     },
     "metadata": {},
     "execution_count": 4
    }
   ],
   "source": [
    "alaska = alaska_raw.loc[[0, 1], income_cols]\n",
    "alaska.drop([1], inplace=True)\n",
    "alaska.head()"
   ]
  },
  {
   "source": [
    "Rename cols for better understanding"
   ],
   "cell_type": "markdown",
   "metadata": {}
  },
  {
   "cell_type": "code",
   "execution_count": 5,
   "metadata": {},
   "outputs": [],
   "source": [
    "cols_rename = {\n",
    "                'B19001_002': '<10k',\n",
    "                'B19001_003': '10k ~ 14,999',\n",
    "                'B19001_004': '15k ~ 19,999',\n",
    "                'B19001_005': '20k ~ 24,999',\n",
    "                'B19001_006': '25k ~ 29,999',\n",
    "                'B19001_007': '30k ~ 34,999',\n",
    "                'B19001_008': '35k ~ 39,999',\n",
    "                'B19001_009': '40k ~ 44,999',\n",
    "                'B19001_010': '45k ~ 49,999',\n",
    "                'B19001_011': '50k ~ 59,999',\n",
    "                'B19001_012': '60k ~ 74,999',\n",
    "                'B19001_013': '75k ~ 99,999',\n",
    "                'B19001_014': '100k ~ 124,999',\n",
    "                'B19001_015': '125k ~ 149,999',\n",
    "                'B19001_016': '150k ~ 199,999',\n",
    "                'B19001_017': '200k+'\n",
    "                }"
   ]
  },
  {
   "cell_type": "code",
   "execution_count": 6,
   "metadata": {},
   "outputs": [],
   "source": [
    "alaska.rename(columns = cols_rename, inplace = True)"
   ]
  },
  {
   "cell_type": "code",
   "execution_count": 7,
   "metadata": {},
   "outputs": [
    {
     "output_type": "execute_result",
     "data": {
      "text/plain": [
       "  State  <10k  10k ~ 14,999  15k ~ 19,999  20k ~ 24,999  25k ~ 29,999  \\\n",
       "0    AK  9216          8418          8345          9349          8311   \n",
       "\n",
       "   30k ~ 34,999  35k ~ 39,999  40k ~ 44,999  45k ~ 49,999  50k ~ 59,999  \\\n",
       "0          9295          9504         10355          8585         17878   \n",
       "\n",
       "   60k ~ 74,999  75k ~ 99,999  100k ~ 124,999  125k ~ 149,999  150k ~ 199,999  \\\n",
       "0         26891         36934           28526           19613           22037   \n",
       "\n",
       "   200k+  \n",
       "0  16978  "
      ],
      "text/html": "<div>\n<style scoped>\n    .dataframe tbody tr th:only-of-type {\n        vertical-align: middle;\n    }\n\n    .dataframe tbody tr th {\n        vertical-align: top;\n    }\n\n    .dataframe thead th {\n        text-align: right;\n    }\n</style>\n<table border=\"1\" class=\"dataframe\">\n  <thead>\n    <tr style=\"text-align: right;\">\n      <th></th>\n      <th>State</th>\n      <th>&lt;10k</th>\n      <th>10k ~ 14,999</th>\n      <th>15k ~ 19,999</th>\n      <th>20k ~ 24,999</th>\n      <th>25k ~ 29,999</th>\n      <th>30k ~ 34,999</th>\n      <th>35k ~ 39,999</th>\n      <th>40k ~ 44,999</th>\n      <th>45k ~ 49,999</th>\n      <th>50k ~ 59,999</th>\n      <th>60k ~ 74,999</th>\n      <th>75k ~ 99,999</th>\n      <th>100k ~ 124,999</th>\n      <th>125k ~ 149,999</th>\n      <th>150k ~ 199,999</th>\n      <th>200k+</th>\n    </tr>\n  </thead>\n  <tbody>\n    <tr>\n      <th>0</th>\n      <td>AK</td>\n      <td>9216</td>\n      <td>8418</td>\n      <td>8345</td>\n      <td>9349</td>\n      <td>8311</td>\n      <td>9295</td>\n      <td>9504</td>\n      <td>10355</td>\n      <td>8585</td>\n      <td>17878</td>\n      <td>26891</td>\n      <td>36934</td>\n      <td>28526</td>\n      <td>19613</td>\n      <td>22037</td>\n      <td>16978</td>\n    </tr>\n  </tbody>\n</table>\n</div>"
     },
     "metadata": {},
     "execution_count": 7
    }
   ],
   "source": [
    "alaska.head()"
   ]
  },
  {
   "source": [
    "Apply the transformations to the other tables"
   ],
   "cell_type": "markdown",
   "metadata": {}
  },
  {
   "cell_type": "code",
   "execution_count": 8,
   "metadata": {},
   "outputs": [
    {
     "output_type": "execute_result",
     "data": {
      "text/plain": [
       "  State    <10k  10k ~ 14,999  15k ~ 19,999  20k ~ 24,999  25k ~ 29,999  \\\n",
       "0    FL  556637        398394        423592        445928        421568   \n",
       "\n",
       "   30k ~ 34,999  35k ~ 39,999  40k ~ 44,999  45k ~ 49,999  50k ~ 59,999  \\\n",
       "0        416468        391972        379530        331287        612464   \n",
       "\n",
       "   60k ~ 74,999  75k ~ 99,999  100k ~ 124,999  125k ~ 149,999  150k ~ 199,999  \\\n",
       "0        738333        832126          527915          297921          297029   \n",
       "\n",
       "    200k+  \n",
       "0  322098  "
      ],
      "text/html": "<div>\n<style scoped>\n    .dataframe tbody tr th:only-of-type {\n        vertical-align: middle;\n    }\n\n    .dataframe tbody tr th {\n        vertical-align: top;\n    }\n\n    .dataframe thead th {\n        text-align: right;\n    }\n</style>\n<table border=\"1\" class=\"dataframe\">\n  <thead>\n    <tr style=\"text-align: right;\">\n      <th></th>\n      <th>State</th>\n      <th>&lt;10k</th>\n      <th>10k ~ 14,999</th>\n      <th>15k ~ 19,999</th>\n      <th>20k ~ 24,999</th>\n      <th>25k ~ 29,999</th>\n      <th>30k ~ 34,999</th>\n      <th>35k ~ 39,999</th>\n      <th>40k ~ 44,999</th>\n      <th>45k ~ 49,999</th>\n      <th>50k ~ 59,999</th>\n      <th>60k ~ 74,999</th>\n      <th>75k ~ 99,999</th>\n      <th>100k ~ 124,999</th>\n      <th>125k ~ 149,999</th>\n      <th>150k ~ 199,999</th>\n      <th>200k+</th>\n    </tr>\n  </thead>\n  <tbody>\n    <tr>\n      <th>0</th>\n      <td>FL</td>\n      <td>556637</td>\n      <td>398394</td>\n      <td>423592</td>\n      <td>445928</td>\n      <td>421568</td>\n      <td>416468</td>\n      <td>391972</td>\n      <td>379530</td>\n      <td>331287</td>\n      <td>612464</td>\n      <td>738333</td>\n      <td>832126</td>\n      <td>527915</td>\n      <td>297921</td>\n      <td>297029</td>\n      <td>322098</td>\n    </tr>\n  </tbody>\n</table>\n</div>"
     },
     "metadata": {},
     "execution_count": 8
    }
   ],
   "source": [
    "# Florida\n",
    "florida_raw = pd.read_csv('FL.csv')\n",
    "florida = florida_raw.loc[[0, 1], income_cols]\n",
    "florida.drop([1], inplace=True)\n",
    "florida.rename(columns = cols_rename, inplace = True)\n",
    "florida.head()"
   ]
  },
  {
   "cell_type": "code",
   "execution_count": 9,
   "metadata": {},
   "outputs": [
    {
     "output_type": "execute_result",
     "data": {
      "text/plain": [
       "  State    <10k  10k ~ 14,999  15k ~ 19,999  20k ~ 24,999  25k ~ 29,999  \\\n",
       "0    KY  166777        114927        109055        103977         97375   \n",
       "\n",
       "   30k ~ 34,999  35k ~ 39,999  40k ~ 44,999  45k ~ 49,999  50k ~ 59,999  \\\n",
       "0         95769         87724         86355         73833        137027   \n",
       "\n",
       "   60k ~ 74,999  75k ~ 99,999  100k ~ 124,999  125k ~ 149,999  150k ~ 199,999  \\\n",
       "0        169183        190731          118183           64316           53630   \n",
       "\n",
       "   200k+  \n",
       "0  49355  "
      ],
      "text/html": "<div>\n<style scoped>\n    .dataframe tbody tr th:only-of-type {\n        vertical-align: middle;\n    }\n\n    .dataframe tbody tr th {\n        vertical-align: top;\n    }\n\n    .dataframe thead th {\n        text-align: right;\n    }\n</style>\n<table border=\"1\" class=\"dataframe\">\n  <thead>\n    <tr style=\"text-align: right;\">\n      <th></th>\n      <th>State</th>\n      <th>&lt;10k</th>\n      <th>10k ~ 14,999</th>\n      <th>15k ~ 19,999</th>\n      <th>20k ~ 24,999</th>\n      <th>25k ~ 29,999</th>\n      <th>30k ~ 34,999</th>\n      <th>35k ~ 39,999</th>\n      <th>40k ~ 44,999</th>\n      <th>45k ~ 49,999</th>\n      <th>50k ~ 59,999</th>\n      <th>60k ~ 74,999</th>\n      <th>75k ~ 99,999</th>\n      <th>100k ~ 124,999</th>\n      <th>125k ~ 149,999</th>\n      <th>150k ~ 199,999</th>\n      <th>200k+</th>\n    </tr>\n  </thead>\n  <tbody>\n    <tr>\n      <th>0</th>\n      <td>KY</td>\n      <td>166777</td>\n      <td>114927</td>\n      <td>109055</td>\n      <td>103977</td>\n      <td>97375</td>\n      <td>95769</td>\n      <td>87724</td>\n      <td>86355</td>\n      <td>73833</td>\n      <td>137027</td>\n      <td>169183</td>\n      <td>190731</td>\n      <td>118183</td>\n      <td>64316</td>\n      <td>53630</td>\n      <td>49355</td>\n    </tr>\n  </tbody>\n</table>\n</div>"
     },
     "metadata": {},
     "execution_count": 9
    }
   ],
   "source": [
    "# Kentuky\n",
    "kentuky_raw = pd.read_csv('KY.csv')\n",
    "kentuky = kentuky_raw.loc[[0, 1], income_cols]\n",
    "kentuky.drop([1], inplace=True)\n",
    "kentuky.rename(columns = cols_rename, inplace = True)\n",
    "kentuky.head()"
   ]
  },
  {
   "source": [
    "Concat the tables"
   ],
   "cell_type": "markdown",
   "metadata": {}
  },
  {
   "cell_type": "code",
   "execution_count": 10,
   "metadata": {},
   "outputs": [
    {
     "output_type": "execute_result",
     "data": {
      "text/plain": [
       "  State    <10k  10k ~ 14,999  15k ~ 19,999  20k ~ 24,999  25k ~ 29,999  \\\n",
       "0    AK    9216          8418          8345          9349          8311   \n",
       "0    FL  556637        398394        423592        445928        421568   \n",
       "0    KY  166777        114927        109055        103977         97375   \n",
       "\n",
       "   30k ~ 34,999  35k ~ 39,999  40k ~ 44,999  45k ~ 49,999  50k ~ 59,999  \\\n",
       "0          9295          9504         10355          8585         17878   \n",
       "0        416468        391972        379530        331287        612464   \n",
       "0         95769         87724         86355         73833        137027   \n",
       "\n",
       "   60k ~ 74,999  75k ~ 99,999  100k ~ 124,999  125k ~ 149,999  150k ~ 199,999  \\\n",
       "0         26891         36934           28526           19613           22037   \n",
       "0        738333        832126          527915          297921          297029   \n",
       "0        169183        190731          118183           64316           53630   \n",
       "\n",
       "    200k+  \n",
       "0   16978  \n",
       "0  322098  \n",
       "0   49355  "
      ],
      "text/html": "<div>\n<style scoped>\n    .dataframe tbody tr th:only-of-type {\n        vertical-align: middle;\n    }\n\n    .dataframe tbody tr th {\n        vertical-align: top;\n    }\n\n    .dataframe thead th {\n        text-align: right;\n    }\n</style>\n<table border=\"1\" class=\"dataframe\">\n  <thead>\n    <tr style=\"text-align: right;\">\n      <th></th>\n      <th>State</th>\n      <th>&lt;10k</th>\n      <th>10k ~ 14,999</th>\n      <th>15k ~ 19,999</th>\n      <th>20k ~ 24,999</th>\n      <th>25k ~ 29,999</th>\n      <th>30k ~ 34,999</th>\n      <th>35k ~ 39,999</th>\n      <th>40k ~ 44,999</th>\n      <th>45k ~ 49,999</th>\n      <th>50k ~ 59,999</th>\n      <th>60k ~ 74,999</th>\n      <th>75k ~ 99,999</th>\n      <th>100k ~ 124,999</th>\n      <th>125k ~ 149,999</th>\n      <th>150k ~ 199,999</th>\n      <th>200k+</th>\n    </tr>\n  </thead>\n  <tbody>\n    <tr>\n      <th>0</th>\n      <td>AK</td>\n      <td>9216</td>\n      <td>8418</td>\n      <td>8345</td>\n      <td>9349</td>\n      <td>8311</td>\n      <td>9295</td>\n      <td>9504</td>\n      <td>10355</td>\n      <td>8585</td>\n      <td>17878</td>\n      <td>26891</td>\n      <td>36934</td>\n      <td>28526</td>\n      <td>19613</td>\n      <td>22037</td>\n      <td>16978</td>\n    </tr>\n    <tr>\n      <th>0</th>\n      <td>FL</td>\n      <td>556637</td>\n      <td>398394</td>\n      <td>423592</td>\n      <td>445928</td>\n      <td>421568</td>\n      <td>416468</td>\n      <td>391972</td>\n      <td>379530</td>\n      <td>331287</td>\n      <td>612464</td>\n      <td>738333</td>\n      <td>832126</td>\n      <td>527915</td>\n      <td>297921</td>\n      <td>297029</td>\n      <td>322098</td>\n    </tr>\n    <tr>\n      <th>0</th>\n      <td>KY</td>\n      <td>166777</td>\n      <td>114927</td>\n      <td>109055</td>\n      <td>103977</td>\n      <td>97375</td>\n      <td>95769</td>\n      <td>87724</td>\n      <td>86355</td>\n      <td>73833</td>\n      <td>137027</td>\n      <td>169183</td>\n      <td>190731</td>\n      <td>118183</td>\n      <td>64316</td>\n      <td>53630</td>\n      <td>49355</td>\n    </tr>\n  </tbody>\n</table>\n</div>"
     },
     "metadata": {},
     "execution_count": 10
    }
   ],
   "source": [
    "states = pd.concat([alaska, florida, kentuky])\n",
    "states.head()"
   ]
  },
  {
   "source": [
    "Load to the DB"
   ],
   "cell_type": "markdown",
   "metadata": {}
  },
  {
   "cell_type": "code",
   "execution_count": 16,
   "metadata": {},
   "outputs": [
    {
     "output_type": "execute_result",
     "data": {
      "text/plain": [
       "<sqlalchemy.engine.base.Connection at 0x1d3f01864f0>"
      ]
     },
     "metadata": {},
     "execution_count": 16
    }
   ],
   "source": [
    "engine = db.create_engine(\"\") # this is not included due to security reasons\n",
    "engine.connect()"
   ]
  },
  {
   "cell_type": "code",
   "execution_count": 14,
   "metadata": {},
   "outputs": [],
   "source": [
    " with engine.begin() as connection:\n",
    "        states.to_sql('states', con=connection, schema='nVY8WCmoZ0', if_exists='replace', index=False)"
   ]
  },
  {
   "source": [
    "Check if everything is ok"
   ],
   "cell_type": "markdown",
   "metadata": {}
  },
  {
   "cell_type": "code",
   "execution_count": 17,
   "metadata": {},
   "outputs": [
    {
     "output_type": "execute_result",
     "data": {
      "text/plain": [
       "  State    <10k  10k ~ 14,999  15k ~ 19,999  20k ~ 24,999  25k ~ 29,999  \\\n",
       "0    AK    9216          8418          8345          9349          8311   \n",
       "1    FL  556637        398394        423592        445928        421568   \n",
       "2    KY  166777        114927        109055        103977         97375   \n",
       "\n",
       "   30k ~ 34,999  35k ~ 39,999  40k ~ 44,999  45k ~ 49,999  50k ~ 59,999  \\\n",
       "0          9295          9504         10355          8585         17878   \n",
       "1        416468        391972        379530        331287        612464   \n",
       "2         95769         87724         86355         73833        137027   \n",
       "\n",
       "   60k ~ 74,999  75k ~ 99,999  100k ~ 124,999  125k ~ 149,999  150k ~ 199,999  \\\n",
       "0         26891         36934           28526           19613           22037   \n",
       "1        738333        832126          527915          297921          297029   \n",
       "2        169183        190731          118183           64316           53630   \n",
       "\n",
       "    200k+  \n",
       "0   16978  \n",
       "1  322098  \n",
       "2   49355  "
      ],
      "text/html": "<div>\n<style scoped>\n    .dataframe tbody tr th:only-of-type {\n        vertical-align: middle;\n    }\n\n    .dataframe tbody tr th {\n        vertical-align: top;\n    }\n\n    .dataframe thead th {\n        text-align: right;\n    }\n</style>\n<table border=\"1\" class=\"dataframe\">\n  <thead>\n    <tr style=\"text-align: right;\">\n      <th></th>\n      <th>State</th>\n      <th>&lt;10k</th>\n      <th>10k ~ 14,999</th>\n      <th>15k ~ 19,999</th>\n      <th>20k ~ 24,999</th>\n      <th>25k ~ 29,999</th>\n      <th>30k ~ 34,999</th>\n      <th>35k ~ 39,999</th>\n      <th>40k ~ 44,999</th>\n      <th>45k ~ 49,999</th>\n      <th>50k ~ 59,999</th>\n      <th>60k ~ 74,999</th>\n      <th>75k ~ 99,999</th>\n      <th>100k ~ 124,999</th>\n      <th>125k ~ 149,999</th>\n      <th>150k ~ 199,999</th>\n      <th>200k+</th>\n    </tr>\n  </thead>\n  <tbody>\n    <tr>\n      <th>0</th>\n      <td>AK</td>\n      <td>9216</td>\n      <td>8418</td>\n      <td>8345</td>\n      <td>9349</td>\n      <td>8311</td>\n      <td>9295</td>\n      <td>9504</td>\n      <td>10355</td>\n      <td>8585</td>\n      <td>17878</td>\n      <td>26891</td>\n      <td>36934</td>\n      <td>28526</td>\n      <td>19613</td>\n      <td>22037</td>\n      <td>16978</td>\n    </tr>\n    <tr>\n      <th>1</th>\n      <td>FL</td>\n      <td>556637</td>\n      <td>398394</td>\n      <td>423592</td>\n      <td>445928</td>\n      <td>421568</td>\n      <td>416468</td>\n      <td>391972</td>\n      <td>379530</td>\n      <td>331287</td>\n      <td>612464</td>\n      <td>738333</td>\n      <td>832126</td>\n      <td>527915</td>\n      <td>297921</td>\n      <td>297029</td>\n      <td>322098</td>\n    </tr>\n    <tr>\n      <th>2</th>\n      <td>KY</td>\n      <td>166777</td>\n      <td>114927</td>\n      <td>109055</td>\n      <td>103977</td>\n      <td>97375</td>\n      <td>95769</td>\n      <td>87724</td>\n      <td>86355</td>\n      <td>73833</td>\n      <td>137027</td>\n      <td>169183</td>\n      <td>190731</td>\n      <td>118183</td>\n      <td>64316</td>\n      <td>53630</td>\n      <td>49355</td>\n    </tr>\n  </tbody>\n</table>\n</div>"
     },
     "metadata": {},
     "execution_count": 17
    }
   ],
   "source": [
    "states_check = pd.read_sql_table(\"states\", engine)\n",
    "states_check.head()"
   ]
  }
 ]
}