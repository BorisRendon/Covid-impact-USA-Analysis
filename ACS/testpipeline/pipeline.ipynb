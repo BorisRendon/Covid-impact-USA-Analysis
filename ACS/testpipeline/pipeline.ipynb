{
 "cells": [
  {
   "cell_type": "markdown",
   "metadata": {},
   "source": [
    "# Pipeline for cleaning and transformations"
   ]
  },
  {
   "cell_type": "code",
   "execution_count": 1,
   "metadata": {},
   "outputs": [],
   "source": [
    "import pandas as pd\n",
    "from sklearn.pipeline import Pipeline\n",
    "import glob\n",
    "\n"
   ]
  },
  {
   "cell_type": "markdown",
   "metadata": {},
   "source": [
    "Variables:\n",
    "\n",
    "* Income\n",
    "* Age\n",
    "* Sex\n",
    "* Race\n",
    "* Insurance\n",
    "* Education"
   ]
  },
  {
   "cell_type": "markdown",
   "metadata": {},
   "source": [
    "\n",
    "**Important note:**  summary level 50 should be used to have county fips"
   ]
  },
  {
   "cell_type": "markdown",
   "metadata": {},
   "source": [
    "## Income variables\n",
    "\n",
    "All refer to HOUSEHOLD INCOME IN THE PAST 12 MONTHS (IN 2016 INFLATION-ADJUSTED DOLLARS) for Households\n",
    "\n",
    "* b19001_002: <10,000 \n",
    "* b19001_003: 10,000 ~ 14,999\n",
    "* b19001_004: 15,000 ~ 19,999\n",
    "* b19001_005: 20,000 ~ 24,999\n",
    "* b19001_006: 25,000 ~ 29,999\n",
    "* b19001_007: 30,000 ~ 34,999\n",
    "* b19001_008: 35,000 ~ 39,999\n",
    "* b19001_009: 40,000 ~ 44,999\n",
    "* b19001_010: 45,000 ~ 49,999\n",
    "* b19001_011: 50,000 ~ 59,999\n",
    "* b19001_012: 60,000 ~ 74,999\n",
    "* b19001_013: 75,000 ~ 99,999\n",
    "* b19001_014: 100,000 ~ 124,999\n",
    "* b19001_015: 125,000 ~ 149,999\n",
    "* b19001_016: 150,000 ~ 199,999\n",
    "* b19001_017: 200,000+\n",
    "\n",
    "This are the variables that we're going to use for our analysis. Other features are not going to be eliminated"
   ]
  },
  {
   "cell_type": "code",
   "execution_count": 2,
   "metadata": {},
   "outputs": [],
   "source": [
    "def raw_data_all_states(folder):\n",
    "    raw_data=glob.glob(f'{folder}/*.csv')\n",
    "    feature=pd.DataFrame()\n",
    "    for f in raw_data:\n",
    "        file = pd.DataFrame(pd.read_csv(f,low_memory=False))\n",
    "        file=file.loc[file['SummaryLevel'] == 50]\n",
    "        feature=feature.append(file)\n",
    "        \n",
    "    return feature"
   ]
  },
  {
   "cell_type": "code",
   "execution_count": 5,
   "metadata": {},
   "outputs": [],
   "source": [
    "income_raw=raw_data_all_states('Income')"
   ]
  },
  {
   "cell_type": "code",
   "execution_count": 6,
   "metadata": {},
   "outputs": [],
   "source": [
    "\n",
    "def income_cleaning(state_raw):\n",
    "    income_cols = ['State','AreaName']\n",
    "    income_codes1 = 'B19001_00'\n",
    "    income_codes2 = 'B19001_0'\n",
    "    for i in range (2,10):\n",
    "        income_cols.append(income_codes1 + str(i))\n",
    "\n",
    "    for i in range(10,18):\n",
    "        income_cols.append(income_codes2 + str(i))\n",
    "\n",
    "    x = state_raw.loc[:,income_cols]  \n",
    "    return x"
   ]
  },
  {
   "cell_type": "code",
   "execution_count": 7,
   "metadata": {},
   "outputs": [],
   "source": [
    "cleaned_data = income_cleaning(income_raw)"
   ]
  },
  {
   "cell_type": "code",
   "execution_count": 8,
   "metadata": {},
   "outputs": [],
   "source": [
    "def change_names_income(state):\n",
    "    cols_rename = {\n",
    "                'B19001_002': '<10k',\n",
    "                'B19001_003': '10k ~ 14,999',\n",
    "                'B19001_004': '15k ~ 19,999',\n",
    "                'B19001_005': '20k ~ 24,999',\n",
    "                'B19001_006': '25k ~ 29,999',\n",
    "                'B19001_007': '30k ~ 34,999',\n",
    "                'B19001_008': '35k ~ 39,999',\n",
    "                'B19001_009': '40k ~ 44,999',\n",
    "                'B19001_010': '45k ~ 49,999',\n",
    "                'B19001_011': '50k ~ 59,999',\n",
    "                'B19001_012': '60k ~ 74,999',\n",
    "                'B19001_013': '75k ~ 99,999',\n",
    "                'B19001_014': '100k ~ 124,999',\n",
    "                'B19001_015': '125k ~ 149,999',\n",
    "                'B19001_016': '150k ~ 199,999',\n",
    "                'B19001_017': '200k+'\n",
    "                }\n",
    "    state.rename(columns = cols_rename, inplace = True)\n",
    "    \n",
    "    return state"
   ]
  },
  {
   "cell_type": "code",
   "execution_count": 9,
   "metadata": {},
   "outputs": [],
   "source": [
    "Cleaned_income=change_names_income(cleaned_data)"
   ]
  },
  {
   "cell_type": "code",
   "execution_count": 10,
   "metadata": {},
   "outputs": [
    {
     "data": {
      "text/html": [
       "<div>\n",
       "<style scoped>\n",
       "    .dataframe tbody tr th:only-of-type {\n",
       "        vertical-align: middle;\n",
       "    }\n",
       "\n",
       "    .dataframe tbody tr th {\n",
       "        vertical-align: top;\n",
       "    }\n",
       "\n",
       "    .dataframe thead th {\n",
       "        text-align: right;\n",
       "    }\n",
       "</style>\n",
       "<table border=\"1\" class=\"dataframe\">\n",
       "  <thead>\n",
       "    <tr style=\"text-align: right;\">\n",
       "      <th></th>\n",
       "      <th>State</th>\n",
       "      <th>AreaName</th>\n",
       "      <th>&lt;10k</th>\n",
       "      <th>10k ~ 14,999</th>\n",
       "      <th>15k ~ 19,999</th>\n",
       "      <th>20k ~ 24,999</th>\n",
       "      <th>25k ~ 29,999</th>\n",
       "      <th>30k ~ 34,999</th>\n",
       "      <th>35k ~ 39,999</th>\n",
       "      <th>40k ~ 44,999</th>\n",
       "      <th>45k ~ 49,999</th>\n",
       "      <th>50k ~ 59,999</th>\n",
       "      <th>60k ~ 74,999</th>\n",
       "      <th>75k ~ 99,999</th>\n",
       "      <th>100k ~ 124,999</th>\n",
       "      <th>125k ~ 149,999</th>\n",
       "      <th>150k ~ 199,999</th>\n",
       "      <th>200k+</th>\n",
       "    </tr>\n",
       "  </thead>\n",
       "  <tbody>\n",
       "    <tr>\n",
       "      <th>12</th>\n",
       "      <td>AK</td>\n",
       "      <td>Aleutians East Borough, Alaska</td>\n",
       "      <td>27</td>\n",
       "      <td>36</td>\n",
       "      <td>33</td>\n",
       "      <td>48</td>\n",
       "      <td>31</td>\n",
       "      <td>26</td>\n",
       "      <td>23</td>\n",
       "      <td>27</td>\n",
       "      <td>30</td>\n",
       "      <td>70</td>\n",
       "      <td>102</td>\n",
       "      <td>123</td>\n",
       "      <td>75</td>\n",
       "      <td>48</td>\n",
       "      <td>56</td>\n",
       "      <td>33</td>\n",
       "    </tr>\n",
       "    <tr>\n",
       "      <th>13</th>\n",
       "      <td>AK</td>\n",
       "      <td>Aleutians West Census Area, Alaska</td>\n",
       "      <td>30</td>\n",
       "      <td>34</td>\n",
       "      <td>28</td>\n",
       "      <td>21</td>\n",
       "      <td>38</td>\n",
       "      <td>35</td>\n",
       "      <td>27</td>\n",
       "      <td>63</td>\n",
       "      <td>37</td>\n",
       "      <td>80</td>\n",
       "      <td>108</td>\n",
       "      <td>228</td>\n",
       "      <td>148</td>\n",
       "      <td>95</td>\n",
       "      <td>117</td>\n",
       "      <td>97</td>\n",
       "    </tr>\n",
       "    <tr>\n",
       "      <th>14</th>\n",
       "      <td>AK</td>\n",
       "      <td>Anchorage Municipality, Alaska</td>\n",
       "      <td>2934</td>\n",
       "      <td>2840</td>\n",
       "      <td>2799</td>\n",
       "      <td>3408</td>\n",
       "      <td>3123</td>\n",
       "      <td>3374</td>\n",
       "      <td>3594</td>\n",
       "      <td>4529</td>\n",
       "      <td>3504</td>\n",
       "      <td>6951</td>\n",
       "      <td>11302</td>\n",
       "      <td>15268</td>\n",
       "      <td>12797</td>\n",
       "      <td>8852</td>\n",
       "      <td>10437</td>\n",
       "      <td>9257</td>\n",
       "    </tr>\n",
       "    <tr>\n",
       "      <th>15</th>\n",
       "      <td>AK</td>\n",
       "      <td>Bethel Census Area, Alaska</td>\n",
       "      <td>299</td>\n",
       "      <td>260</td>\n",
       "      <td>292</td>\n",
       "      <td>267</td>\n",
       "      <td>211</td>\n",
       "      <td>219</td>\n",
       "      <td>221</td>\n",
       "      <td>191</td>\n",
       "      <td>196</td>\n",
       "      <td>373</td>\n",
       "      <td>505</td>\n",
       "      <td>580</td>\n",
       "      <td>308</td>\n",
       "      <td>221</td>\n",
       "      <td>288</td>\n",
       "      <td>124</td>\n",
       "    </tr>\n",
       "    <tr>\n",
       "      <th>16</th>\n",
       "      <td>AK</td>\n",
       "      <td>Bristol Bay Borough, Alaska</td>\n",
       "      <td>13</td>\n",
       "      <td>12</td>\n",
       "      <td>11</td>\n",
       "      <td>11</td>\n",
       "      <td>13</td>\n",
       "      <td>11</td>\n",
       "      <td>4</td>\n",
       "      <td>13</td>\n",
       "      <td>13</td>\n",
       "      <td>23</td>\n",
       "      <td>35</td>\n",
       "      <td>54</td>\n",
       "      <td>48</td>\n",
       "      <td>45</td>\n",
       "      <td>36</td>\n",
       "      <td>18</td>\n",
       "    </tr>\n",
       "  </tbody>\n",
       "</table>\n",
       "</div>"
      ],
      "text/plain": [
       "   State                            AreaName  <10k  10k ~ 14,999  \\\n",
       "12    AK      Aleutians East Borough, Alaska    27            36   \n",
       "13    AK  Aleutians West Census Area, Alaska    30            34   \n",
       "14    AK      Anchorage Municipality, Alaska  2934          2840   \n",
       "15    AK          Bethel Census Area, Alaska   299           260   \n",
       "16    AK         Bristol Bay Borough, Alaska    13            12   \n",
       "\n",
       "    15k ~ 19,999  20k ~ 24,999  25k ~ 29,999  30k ~ 34,999  35k ~ 39,999  \\\n",
       "12            33            48            31            26            23   \n",
       "13            28            21            38            35            27   \n",
       "14          2799          3408          3123          3374          3594   \n",
       "15           292           267           211           219           221   \n",
       "16            11            11            13            11             4   \n",
       "\n",
       "    40k ~ 44,999  45k ~ 49,999  50k ~ 59,999  60k ~ 74,999  75k ~ 99,999  \\\n",
       "12            27            30            70           102           123   \n",
       "13            63            37            80           108           228   \n",
       "14          4529          3504          6951         11302         15268   \n",
       "15           191           196           373           505           580   \n",
       "16            13            13            23            35            54   \n",
       "\n",
       "    100k ~ 124,999  125k ~ 149,999  150k ~ 199,999  200k+  \n",
       "12              75              48              56     33  \n",
       "13             148              95             117     97  \n",
       "14           12797            8852           10437   9257  \n",
       "15             308             221             288    124  \n",
       "16              48              45              36     18  "
      ]
     },
     "execution_count": 10,
     "metadata": {},
     "output_type": "execute_result"
    }
   ],
   "source": [
    "Cleaned_income.head(5)"
   ]
  },
  {
   "cell_type": "markdown",
   "metadata": {},
   "source": [
    "Este es el resultado que buscamos replicar en todas las tablas, tener solo los códigos que elegimos y reemplazarlos por el valor."
   ]
  },
  {
   "cell_type": "markdown",
   "metadata": {},
   "source": [
    "## Age & Sex variables\n",
    "\n",
    "This features refer to SEX BY AGE for Total Population (Male)\n",
    "\n",
    "* b01001_003: <5\n",
    "* b01001_004: 5 ~ 9\n",
    "* b01001_005: 10 ~ 14\n",
    "* b01001_006: 15 ~ 17\n",
    "* b01001_007: 18 ~ 19\n",
    "* b01001_008: 20\n",
    "* b01001_009: 21\n",
    "* b01001_010: 22 ~ 24\n",
    "* b01001_011: 25 ~ 29\n",
    "* b01001_012: 30 ~ 34\n",
    "* b01001_013: 35 ~ 39\n",
    "* b01001_014: 40 ~ 44\n",
    "* b01001_015: 45 ~ 49\n",
    "* b01001_016: 50 ~ 54\n",
    "* b01001_017: 55 ~ 59\n",
    "* b01001_018: 60 ~ 61\n",
    "* b01001_019: 62 ~ 64\n",
    "* b01001_020: 65 ~ 66\n",
    "* b01001_021: 67 ~ 69\n",
    "* b01001_022: 70 ~ 74\n",
    "* b01001_023: 75 ~ 79\n",
    "* b01001_024: 80 ~ 84\n",
    "* b01001_025: 85+\n",
    "\n",
    "This features refer to SEX BY AGE for Total Population (Female)\n",
    "\n",
    "    * b01001_027: <5\n",
    "    * b01001_028: 5 ~ 9\n",
    "    * b01001_029: 10 ~ 14\n",
    "    * b01001_030: 15 ~ 17\n",
    "    * b01001_031: 18 ~ 19\n",
    "    * b01001_032: 20\n",
    "    * b01001_033: 21\n",
    "    * b01001_034: 22 ~ 24\n",
    "    * b01001_035: 25 ~ 29\n",
    "    * b01001_036: 30 ~ 34\n",
    "    * b01001_037: 35 ~ 39\n",
    "    * b01001_038: 40 ~ 44\n",
    "    * b01001_039: 45 ~ 49\n",
    "    * b01001_040: 50 ~ 54\n",
    "    * b01001_041: 55 ~ 59\n",
    "    * b01001_042: 60 ~ 61\n",
    "    * b01001_043: 62 ~ 64\n",
    "    * b01001_044: 65 ~ 66\n",
    "    * b01001_045: 67 ~ 69\n",
    "    * b01001_046: 70 ~ 74\n",
    "    * b01001_047: 75 ~ 79\n",
    "    * b01001_048: 80 ~ 84\n",
    "    * b01001_049: 85+"
   ]
  },
  {
   "cell_type": "code",
   "execution_count": 3,
   "metadata": {},
   "outputs": [],
   "source": [
    "age_sex_raw = raw_data_all_states('Age_sex')"
   ]
  },
  {
   "cell_type": "code",
   "execution_count": 4,
   "metadata": {},
   "outputs": [],
   "source": [
    "\n",
    "def age_sex_cleaning(state_raw):\n",
    "    age_sex_cols =['State','AreaName']\n",
    "    age_sex_male1 = 'B01001_00'\n",
    "    age_sex_male2 = 'B01001_0'\n",
    "    age_sex_female = 'B01001_0'\n",
    "    for i in range (3,10):\n",
    "        age_sex_cols.append(age_sex_male1 + str(i))\n",
    "    for i in range (10,26):\n",
    "        age_sex_cols.append(age_sex_male2 + str(i))\n",
    "        \n",
    "    \n",
    "    for i in range (27,50):\n",
    "        age_sex_cols.append(age_sex_female + str(i))\n",
    "\n",
    "    x = state_raw.loc[:,age_sex_cols]  \n",
    "    return x"
   ]
  },
  {
   "cell_type": "code",
   "execution_count": 5,
   "metadata": {},
   "outputs": [],
   "source": [
    "cleaned_age_sex = age_sex_cleaning(age_sex_raw)"
   ]
  },
  {
   "cell_type": "code",
   "execution_count": 8,
   "metadata": {},
   "outputs": [
    {
     "data": {
      "text/html": [
       "<div>\n",
       "<style scoped>\n",
       "    .dataframe tbody tr th:only-of-type {\n",
       "        vertical-align: middle;\n",
       "    }\n",
       "\n",
       "    .dataframe tbody tr th {\n",
       "        vertical-align: top;\n",
       "    }\n",
       "\n",
       "    .dataframe thead th {\n",
       "        text-align: right;\n",
       "    }\n",
       "</style>\n",
       "<table border=\"1\" class=\"dataframe\">\n",
       "  <thead>\n",
       "    <tr style=\"text-align: right;\">\n",
       "      <th></th>\n",
       "      <th>State</th>\n",
       "      <th>AreaName</th>\n",
       "      <th>B01001_003</th>\n",
       "      <th>B01001_004</th>\n",
       "      <th>B01001_005</th>\n",
       "      <th>B01001_006</th>\n",
       "      <th>B01001_007</th>\n",
       "      <th>B01001_008</th>\n",
       "      <th>B01001_009</th>\n",
       "      <th>B01001_010</th>\n",
       "      <th>...</th>\n",
       "      <th>B01001_040</th>\n",
       "      <th>B01001_041</th>\n",
       "      <th>B01001_042</th>\n",
       "      <th>B01001_043</th>\n",
       "      <th>B01001_044</th>\n",
       "      <th>B01001_045</th>\n",
       "      <th>B01001_046</th>\n",
       "      <th>B01001_047</th>\n",
       "      <th>B01001_048</th>\n",
       "      <th>B01001_049</th>\n",
       "    </tr>\n",
       "  </thead>\n",
       "  <tbody>\n",
       "    <tr>\n",
       "      <th>12</th>\n",
       "      <td>AK</td>\n",
       "      <td>Aleutians East Borough, Alaska</td>\n",
       "      <td>48</td>\n",
       "      <td>71</td>\n",
       "      <td>74</td>\n",
       "      <td>30</td>\n",
       "      <td>42</td>\n",
       "      <td>36</td>\n",
       "      <td>20</td>\n",
       "      <td>141</td>\n",
       "      <td>...</td>\n",
       "      <td>129</td>\n",
       "      <td>113</td>\n",
       "      <td>26</td>\n",
       "      <td>50</td>\n",
       "      <td>37</td>\n",
       "      <td>18</td>\n",
       "      <td>14</td>\n",
       "      <td>13</td>\n",
       "      <td>7</td>\n",
       "      <td>10</td>\n",
       "    </tr>\n",
       "  </tbody>\n",
       "</table>\n",
       "<p>1 rows × 48 columns</p>\n",
       "</div>"
      ],
      "text/plain": [
       "   State                        AreaName  B01001_003  B01001_004  B01001_005  \\\n",
       "12    AK  Aleutians East Borough, Alaska          48          71          74   \n",
       "\n",
       "    B01001_006  B01001_007  B01001_008  B01001_009  B01001_010  ...  \\\n",
       "12          30          42          36          20         141  ...   \n",
       "\n",
       "    B01001_040  B01001_041  B01001_042  B01001_043  B01001_044  B01001_045  \\\n",
       "12         129         113          26          50          37          18   \n",
       "\n",
       "    B01001_046  B01001_047  B01001_048  B01001_049  \n",
       "12          14          13           7          10  \n",
       "\n",
       "[1 rows x 48 columns]"
      ]
     },
     "execution_count": 8,
     "metadata": {},
     "output_type": "execute_result"
    }
   ],
   "source": [
    "cleaned_age_sex.head(1)"
   ]
  },
  {
   "cell_type": "code",
   "execution_count": 9,
   "metadata": {},
   "outputs": [],
   "source": [
    "def change_names_age_sex(state):\n",
    "    cols_rename = {\n",
    "                'B01001_003': 'Male <5',\n",
    "                'B01001_004': 'Male 5 ~ 9',\n",
    "                'B01001_005': 'Male 10 ~ 14',\n",
    "                'B01001_006': 'Male 15 ~ 17',\n",
    "            \n",
    "                'B01001_007': 'Male 18 ~ 19',\n",
    "                'B01001_008': 'Male 20',\n",
    "                'B01001_009': 'Male 21',\n",
    "                'B01001_010': 'Male 22 ~ 24',\n",
    "                'B01001_011': 'Male 25 ~ 29',\n",
    "                'B01001_012': 'Male 30 ~ 34',\n",
    "                'B01001_013': 'Male 35 ~ 39',\n",
    "                'B01001_014': 'Male 40 ~ 44',\n",
    "                'B01001_015': 'Male 45 ~ 49',\n",
    "                'B01001_016': 'Male 50  ~ 54',\n",
    "                'B01001_017': 'Male 55 ~ 59',\n",
    "                'B01001_018': 'Male 60 ~ 61',\n",
    "                'B01001_019': 'Male 62 ~ 64',\n",
    "                'B01001_020': 'Male 65 ~ 66',\n",
    "                'B01001_021': 'Male 67 ~ 69',\n",
    "                'B01001_022': 'Male 70 ~ 74',\n",
    "                'B01001_023': 'Male 75 ~ 79',\n",
    "                'B01001_024': 'Male 80 ~ 54',\n",
    "                'B01001_025': 'Male 85 +',\n",
    "                'B01001_027': 'Female <5',\n",
    "                'B01001_028': 'Female 5 ~ 9',\n",
    "                'B01001_029': 'Female 10 ~ 14',\n",
    "                'B01001_030': 'Female 15 ~ 17',\n",
    "                'B01001_031': 'Female 18 ~ 19',\n",
    "                'B01001_032': 'Female 20',\n",
    "                'B01001_033': 'Female 21',\n",
    "                'B01001_034': 'Female 22 ~ 24',\n",
    "                'B01001_035': 'Female 25 ~ 29',\n",
    "                'B01001_036': 'Female 30 ~ 34',\n",
    "                'B01001_037': 'Female 35 ~ 39',\n",
    "                'B01001_038': 'Female 40 ~ 44',\n",
    "                'B01001_039': 'Female 45 ~ 49',\n",
    "                'B01001_040': 'Female 50 ~ 54',\n",
    "                'B01001_041': 'Female 55 ~ 59',\n",
    "                'B01001_042': 'Female 60 ~ 61',\n",
    "                'B01001_043': 'Female 62 ~ 64',\n",
    "                'B01001_044': 'Female 65 ~ 66',\n",
    "                'B01001_045': 'Female 67 ~ 69',\n",
    "                'B01001_046': 'Female 70 ~ 74',\n",
    "                'B01001_047': 'Female 75 ~ 79',\n",
    "                'B01001_048': 'Female 80 ~ 84',\n",
    "                'B01001_049': 'Female 85+'\n",
    "                }\n",
    "    state.rename(columns = cols_rename, inplace = True)\n",
    "    \n",
    "    return state"
   ]
  },
  {
   "cell_type": "code",
   "execution_count": 17,
   "metadata": {},
   "outputs": [],
   "source": [
    "def add_ages (df):\n",
    "    male = 'Male'\n",
    "    female = 'Female'\n",
    "    yrs_5 = df[]\n",
    "#hacer uso de startswith y endswitch\n",
    "https://www.w3schools.com/python/ref_string_startswith.asp\n",
    "    https://www.w3schools.com/python/ref_string_startswith.asp\n",
    "        https://www.w3schools.com/python/ref_string_startswith.asp"
   ]
  },
  {
   "cell_type": "code",
   "execution_count": 18,
   "metadata": {},
   "outputs": [],
   "source": [
    "ags = change_names_age_sex(cleaned_age_sex)"
   ]
  },
  {
   "cell_type": "code",
   "execution_count": 44,
   "metadata": {},
   "outputs": [
    {
     "ename": "KeyError",
     "evalue": "0",
     "output_type": "error",
     "traceback": [
      "\u001b[1;31m---------------------------------------------------------------------------\u001b[0m",
      "\u001b[1;31mKeyError\u001b[0m                                  Traceback (most recent call last)",
      "\u001b[1;32md:\\python\\lib\\site-packages\\pandas\\core\\indexes\\base.py\u001b[0m in \u001b[0;36mget_loc\u001b[1;34m(self, key, method, tolerance)\u001b[0m\n\u001b[0;32m   3079\u001b[0m             \u001b[1;32mtry\u001b[0m\u001b[1;33m:\u001b[0m\u001b[1;33m\u001b[0m\u001b[1;33m\u001b[0m\u001b[0m\n\u001b[1;32m-> 3080\u001b[1;33m                 \u001b[1;32mreturn\u001b[0m \u001b[0mself\u001b[0m\u001b[1;33m.\u001b[0m\u001b[0m_engine\u001b[0m\u001b[1;33m.\u001b[0m\u001b[0mget_loc\u001b[0m\u001b[1;33m(\u001b[0m\u001b[0mcasted_key\u001b[0m\u001b[1;33m)\u001b[0m\u001b[1;33m\u001b[0m\u001b[1;33m\u001b[0m\u001b[0m\n\u001b[0m\u001b[0;32m   3081\u001b[0m             \u001b[1;32mexcept\u001b[0m \u001b[0mKeyError\u001b[0m \u001b[1;32mas\u001b[0m \u001b[0merr\u001b[0m\u001b[1;33m:\u001b[0m\u001b[1;33m\u001b[0m\u001b[1;33m\u001b[0m\u001b[0m\n",
      "\u001b[1;32mpandas\\_libs\\index.pyx\u001b[0m in \u001b[0;36mpandas._libs.index.IndexEngine.get_loc\u001b[1;34m()\u001b[0m\n",
      "\u001b[1;32mpandas\\_libs\\index.pyx\u001b[0m in \u001b[0;36mpandas._libs.index.IndexEngine.get_loc\u001b[1;34m()\u001b[0m\n",
      "\u001b[1;32mpandas\\_libs\\hashtable_class_helper.pxi\u001b[0m in \u001b[0;36mpandas._libs.hashtable.PyObjectHashTable.get_item\u001b[1;34m()\u001b[0m\n",
      "\u001b[1;32mpandas\\_libs\\hashtable_class_helper.pxi\u001b[0m in \u001b[0;36mpandas._libs.hashtable.PyObjectHashTable.get_item\u001b[1;34m()\u001b[0m\n",
      "\u001b[1;31mKeyError\u001b[0m: 0",
      "\nThe above exception was the direct cause of the following exception:\n",
      "\u001b[1;31mKeyError\u001b[0m                                  Traceback (most recent call last)",
      "\u001b[1;32m<ipython-input-44-9aec4b9a19fb>\u001b[0m in \u001b[0;36m<module>\u001b[1;34m\u001b[0m\n\u001b[1;32m----> 1\u001b[1;33m \u001b[0mags\u001b[0m\u001b[1;33m[\u001b[0m\u001b[1;36m0\u001b[0m\u001b[1;33m]\u001b[0m\u001b[1;33m\u001b[0m\u001b[1;33m\u001b[0m\u001b[0m\n\u001b[0m",
      "\u001b[1;32md:\\python\\lib\\site-packages\\pandas\\core\\frame.py\u001b[0m in \u001b[0;36m__getitem__\u001b[1;34m(self, key)\u001b[0m\n\u001b[0;32m   3022\u001b[0m             \u001b[1;32mif\u001b[0m \u001b[0mself\u001b[0m\u001b[1;33m.\u001b[0m\u001b[0mcolumns\u001b[0m\u001b[1;33m.\u001b[0m\u001b[0mnlevels\u001b[0m \u001b[1;33m>\u001b[0m \u001b[1;36m1\u001b[0m\u001b[1;33m:\u001b[0m\u001b[1;33m\u001b[0m\u001b[1;33m\u001b[0m\u001b[0m\n\u001b[0;32m   3023\u001b[0m                 \u001b[1;32mreturn\u001b[0m \u001b[0mself\u001b[0m\u001b[1;33m.\u001b[0m\u001b[0m_getitem_multilevel\u001b[0m\u001b[1;33m(\u001b[0m\u001b[0mkey\u001b[0m\u001b[1;33m)\u001b[0m\u001b[1;33m\u001b[0m\u001b[1;33m\u001b[0m\u001b[0m\n\u001b[1;32m-> 3024\u001b[1;33m             \u001b[0mindexer\u001b[0m \u001b[1;33m=\u001b[0m \u001b[0mself\u001b[0m\u001b[1;33m.\u001b[0m\u001b[0mcolumns\u001b[0m\u001b[1;33m.\u001b[0m\u001b[0mget_loc\u001b[0m\u001b[1;33m(\u001b[0m\u001b[0mkey\u001b[0m\u001b[1;33m)\u001b[0m\u001b[1;33m\u001b[0m\u001b[1;33m\u001b[0m\u001b[0m\n\u001b[0m\u001b[0;32m   3025\u001b[0m             \u001b[1;32mif\u001b[0m \u001b[0mis_integer\u001b[0m\u001b[1;33m(\u001b[0m\u001b[0mindexer\u001b[0m\u001b[1;33m)\u001b[0m\u001b[1;33m:\u001b[0m\u001b[1;33m\u001b[0m\u001b[1;33m\u001b[0m\u001b[0m\n\u001b[0;32m   3026\u001b[0m                 \u001b[0mindexer\u001b[0m \u001b[1;33m=\u001b[0m \u001b[1;33m[\u001b[0m\u001b[0mindexer\u001b[0m\u001b[1;33m]\u001b[0m\u001b[1;33m\u001b[0m\u001b[1;33m\u001b[0m\u001b[0m\n",
      "\u001b[1;32md:\\python\\lib\\site-packages\\pandas\\core\\indexes\\base.py\u001b[0m in \u001b[0;36mget_loc\u001b[1;34m(self, key, method, tolerance)\u001b[0m\n\u001b[0;32m   3080\u001b[0m                 \u001b[1;32mreturn\u001b[0m \u001b[0mself\u001b[0m\u001b[1;33m.\u001b[0m\u001b[0m_engine\u001b[0m\u001b[1;33m.\u001b[0m\u001b[0mget_loc\u001b[0m\u001b[1;33m(\u001b[0m\u001b[0mcasted_key\u001b[0m\u001b[1;33m)\u001b[0m\u001b[1;33m\u001b[0m\u001b[1;33m\u001b[0m\u001b[0m\n\u001b[0;32m   3081\u001b[0m             \u001b[1;32mexcept\u001b[0m \u001b[0mKeyError\u001b[0m \u001b[1;32mas\u001b[0m \u001b[0merr\u001b[0m\u001b[1;33m:\u001b[0m\u001b[1;33m\u001b[0m\u001b[1;33m\u001b[0m\u001b[0m\n\u001b[1;32m-> 3082\u001b[1;33m                 \u001b[1;32mraise\u001b[0m \u001b[0mKeyError\u001b[0m\u001b[1;33m(\u001b[0m\u001b[0mkey\u001b[0m\u001b[1;33m)\u001b[0m \u001b[1;32mfrom\u001b[0m \u001b[0merr\u001b[0m\u001b[1;33m\u001b[0m\u001b[1;33m\u001b[0m\u001b[0m\n\u001b[0m\u001b[0;32m   3083\u001b[0m \u001b[1;33m\u001b[0m\u001b[0m\n\u001b[0;32m   3084\u001b[0m         \u001b[1;32mif\u001b[0m \u001b[0mtolerance\u001b[0m \u001b[1;32mis\u001b[0m \u001b[1;32mnot\u001b[0m \u001b[1;32mNone\u001b[0m\u001b[1;33m:\u001b[0m\u001b[1;33m\u001b[0m\u001b[1;33m\u001b[0m\u001b[0m\n",
      "\u001b[1;31mKeyError\u001b[0m: 0"
     ]
    }
   ],
   "source": []
  },
  {
   "cell_type": "code",
   "execution_count": 38,
   "metadata": {},
   "outputs": [],
   "source": [
    "test1 =ags['Male <5']+ags['Female <5']"
   ]
  },
  {
   "cell_type": "code",
   "execution_count": 41,
   "metadata": {},
   "outputs": [
    {
     "data": {
      "text/plain": [
       "12       93\n",
       "13      190\n",
       "14    22121\n",
       "15     1883\n",
       "16       50\n",
       "      ...  \n",
       "30     3224\n",
       "31     1204\n",
       "32     1558\n",
       "33      468\n",
       "34      381\n",
       "Length: 3220, dtype: int64"
      ]
     },
     "execution_count": 41,
     "metadata": {},
     "output_type": "execute_result"
    }
   ],
   "source": [
    "test1"
   ]
  },
  {
   "cell_type": "code",
   "execution_count": 19,
   "metadata": {},
   "outputs": [
    {
     "ename": "KeyError",
     "evalue": "0",
     "output_type": "error",
     "traceback": [
      "\u001b[1;31m---------------------------------------------------------------------------\u001b[0m",
      "\u001b[1;31mKeyError\u001b[0m                                  Traceback (most recent call last)",
      "\u001b[1;32md:\\python\\lib\\site-packages\\pandas\\core\\indexes\\base.py\u001b[0m in \u001b[0;36mget_loc\u001b[1;34m(self, key, method, tolerance)\u001b[0m\n\u001b[0;32m   3079\u001b[0m             \u001b[1;32mtry\u001b[0m\u001b[1;33m:\u001b[0m\u001b[1;33m\u001b[0m\u001b[1;33m\u001b[0m\u001b[0m\n\u001b[1;32m-> 3080\u001b[1;33m                 \u001b[1;32mreturn\u001b[0m \u001b[0mself\u001b[0m\u001b[1;33m.\u001b[0m\u001b[0m_engine\u001b[0m\u001b[1;33m.\u001b[0m\u001b[0mget_loc\u001b[0m\u001b[1;33m(\u001b[0m\u001b[0mcasted_key\u001b[0m\u001b[1;33m)\u001b[0m\u001b[1;33m\u001b[0m\u001b[1;33m\u001b[0m\u001b[0m\n\u001b[0m\u001b[0;32m   3081\u001b[0m             \u001b[1;32mexcept\u001b[0m \u001b[0mKeyError\u001b[0m \u001b[1;32mas\u001b[0m \u001b[0merr\u001b[0m\u001b[1;33m:\u001b[0m\u001b[1;33m\u001b[0m\u001b[1;33m\u001b[0m\u001b[0m\n",
      "\u001b[1;32mpandas\\_libs\\index.pyx\u001b[0m in \u001b[0;36mpandas._libs.index.IndexEngine.get_loc\u001b[1;34m()\u001b[0m\n",
      "\u001b[1;32mpandas\\_libs\\index.pyx\u001b[0m in \u001b[0;36mpandas._libs.index.IndexEngine.get_loc\u001b[1;34m()\u001b[0m\n",
      "\u001b[1;32mpandas\\_libs\\hashtable_class_helper.pxi\u001b[0m in \u001b[0;36mpandas._libs.hashtable.PyObjectHashTable.get_item\u001b[1;34m()\u001b[0m\n",
      "\u001b[1;32mpandas\\_libs\\hashtable_class_helper.pxi\u001b[0m in \u001b[0;36mpandas._libs.hashtable.PyObjectHashTable.get_item\u001b[1;34m()\u001b[0m\n",
      "\u001b[1;31mKeyError\u001b[0m: 0",
      "\nThe above exception was the direct cause of the following exception:\n",
      "\u001b[1;31mKeyError\u001b[0m                                  Traceback (most recent call last)",
      "\u001b[1;32m<ipython-input-19-697505f27ad9>\u001b[0m in \u001b[0;36m<module>\u001b[1;34m\u001b[0m\n\u001b[1;32m----> 1\u001b[1;33m \u001b[0mexample\u001b[0m \u001b[1;33m=\u001b[0m \u001b[0madd_ages\u001b[0m\u001b[1;33m(\u001b[0m\u001b[0mags\u001b[0m\u001b[1;33m)\u001b[0m\u001b[1;33m\u001b[0m\u001b[1;33m\u001b[0m\u001b[0m\n\u001b[0m",
      "\u001b[1;32m<ipython-input-17-a2e61dd2a59c>\u001b[0m in \u001b[0;36madd_ages\u001b[1;34m(df)\u001b[0m\n\u001b[0;32m      3\u001b[0m         \u001b[0mx\u001b[0m\u001b[1;33m=\u001b[0m\u001b[1;36m24\u001b[0m\u001b[1;33m\u001b[0m\u001b[1;33m\u001b[0m\u001b[0m\n\u001b[0;32m      4\u001b[0m         \u001b[0my\u001b[0m\u001b[1;33m=\u001b[0m\u001b[1;36m0\u001b[0m\u001b[1;33m\u001b[0m\u001b[1;33m\u001b[0m\u001b[0m\n\u001b[1;32m----> 5\u001b[1;33m         \u001b[0mdf\u001b[0m\u001b[1;33m[\u001b[0m\u001b[0my\u001b[0m\u001b[1;33m]\u001b[0m\u001b[1;33m+\u001b[0m\u001b[0mdf\u001b[0m\u001b[1;33m[\u001b[0m\u001b[0mx\u001b[0m\u001b[1;33m]\u001b[0m\u001b[1;33m\u001b[0m\u001b[1;33m\u001b[0m\u001b[0m\n\u001b[0m\u001b[0;32m      6\u001b[0m         \u001b[0mx\u001b[0m\u001b[1;33m=\u001b[0m\u001b[0mx\u001b[0m\u001b[1;33m-\u001b[0m\u001b[1;36m1\u001b[0m\u001b[1;33m\u001b[0m\u001b[1;33m\u001b[0m\u001b[0m\n\u001b[0;32m      7\u001b[0m         \u001b[0my\u001b[0m\u001b[1;33m=\u001b[0m\u001b[0my\u001b[0m\u001b[1;33m+\u001b[0m\u001b[1;36m1\u001b[0m\u001b[1;33m\u001b[0m\u001b[1;33m\u001b[0m\u001b[0m\n",
      "\u001b[1;32md:\\python\\lib\\site-packages\\pandas\\core\\frame.py\u001b[0m in \u001b[0;36m__getitem__\u001b[1;34m(self, key)\u001b[0m\n\u001b[0;32m   3022\u001b[0m             \u001b[1;32mif\u001b[0m \u001b[0mself\u001b[0m\u001b[1;33m.\u001b[0m\u001b[0mcolumns\u001b[0m\u001b[1;33m.\u001b[0m\u001b[0mnlevels\u001b[0m \u001b[1;33m>\u001b[0m \u001b[1;36m1\u001b[0m\u001b[1;33m:\u001b[0m\u001b[1;33m\u001b[0m\u001b[1;33m\u001b[0m\u001b[0m\n\u001b[0;32m   3023\u001b[0m                 \u001b[1;32mreturn\u001b[0m \u001b[0mself\u001b[0m\u001b[1;33m.\u001b[0m\u001b[0m_getitem_multilevel\u001b[0m\u001b[1;33m(\u001b[0m\u001b[0mkey\u001b[0m\u001b[1;33m)\u001b[0m\u001b[1;33m\u001b[0m\u001b[1;33m\u001b[0m\u001b[0m\n\u001b[1;32m-> 3024\u001b[1;33m             \u001b[0mindexer\u001b[0m \u001b[1;33m=\u001b[0m \u001b[0mself\u001b[0m\u001b[1;33m.\u001b[0m\u001b[0mcolumns\u001b[0m\u001b[1;33m.\u001b[0m\u001b[0mget_loc\u001b[0m\u001b[1;33m(\u001b[0m\u001b[0mkey\u001b[0m\u001b[1;33m)\u001b[0m\u001b[1;33m\u001b[0m\u001b[1;33m\u001b[0m\u001b[0m\n\u001b[0m\u001b[0;32m   3025\u001b[0m             \u001b[1;32mif\u001b[0m \u001b[0mis_integer\u001b[0m\u001b[1;33m(\u001b[0m\u001b[0mindexer\u001b[0m\u001b[1;33m)\u001b[0m\u001b[1;33m:\u001b[0m\u001b[1;33m\u001b[0m\u001b[1;33m\u001b[0m\u001b[0m\n\u001b[0;32m   3026\u001b[0m                 \u001b[0mindexer\u001b[0m \u001b[1;33m=\u001b[0m \u001b[1;33m[\u001b[0m\u001b[0mindexer\u001b[0m\u001b[1;33m]\u001b[0m\u001b[1;33m\u001b[0m\u001b[1;33m\u001b[0m\u001b[0m\n",
      "\u001b[1;32md:\\python\\lib\\site-packages\\pandas\\core\\indexes\\base.py\u001b[0m in \u001b[0;36mget_loc\u001b[1;34m(self, key, method, tolerance)\u001b[0m\n\u001b[0;32m   3080\u001b[0m                 \u001b[1;32mreturn\u001b[0m \u001b[0mself\u001b[0m\u001b[1;33m.\u001b[0m\u001b[0m_engine\u001b[0m\u001b[1;33m.\u001b[0m\u001b[0mget_loc\u001b[0m\u001b[1;33m(\u001b[0m\u001b[0mcasted_key\u001b[0m\u001b[1;33m)\u001b[0m\u001b[1;33m\u001b[0m\u001b[1;33m\u001b[0m\u001b[0m\n\u001b[0;32m   3081\u001b[0m             \u001b[1;32mexcept\u001b[0m \u001b[0mKeyError\u001b[0m \u001b[1;32mas\u001b[0m \u001b[0merr\u001b[0m\u001b[1;33m:\u001b[0m\u001b[1;33m\u001b[0m\u001b[1;33m\u001b[0m\u001b[0m\n\u001b[1;32m-> 3082\u001b[1;33m                 \u001b[1;32mraise\u001b[0m \u001b[0mKeyError\u001b[0m\u001b[1;33m(\u001b[0m\u001b[0mkey\u001b[0m\u001b[1;33m)\u001b[0m \u001b[1;32mfrom\u001b[0m \u001b[0merr\u001b[0m\u001b[1;33m\u001b[0m\u001b[1;33m\u001b[0m\u001b[0m\n\u001b[0m\u001b[0;32m   3083\u001b[0m \u001b[1;33m\u001b[0m\u001b[0m\n\u001b[0;32m   3084\u001b[0m         \u001b[1;32mif\u001b[0m \u001b[0mtolerance\u001b[0m \u001b[1;32mis\u001b[0m \u001b[1;32mnot\u001b[0m \u001b[1;32mNone\u001b[0m\u001b[1;33m:\u001b[0m\u001b[1;33m\u001b[0m\u001b[1;33m\u001b[0m\u001b[0m\n",
      "\u001b[1;31mKeyError\u001b[0m: 0"
     ]
    }
   ],
   "source": [
    "example = add_ages(ags)"
   ]
  },
  {
   "cell_type": "markdown",
   "metadata": {},
   "source": [
    "## Race variable\n",
    "\n",
    "This features refer to RACE for Total Population\n",
    "\n",
    "* b02001_002: White alone\n",
    "* b02001_003: Black or African American alone\n",
    "* b02001_004: American Indian and Alaska Native alone\n",
    "* b02001_005: Asian alone\n",
    "* b02001_006: Native Hawaiian and Other Pacific Islander alone\n",
    "* b02001_007: Some other race alone\n",
    "* b02001_008: Two or more races"
   ]
  },
  {
   "cell_type": "code",
   "execution_count": 96,
   "metadata": {},
   "outputs": [],
   "source": [
    "race_raw = raw_data_all_states('Race')"
   ]
  },
  {
   "cell_type": "code",
   "execution_count": 99,
   "metadata": {},
   "outputs": [],
   "source": [
    "def race_cleaning(state_raw):\n",
    "    race_cols =['State']\n",
    "    race = 'B02001_00'\n",
    "    for i in range (2,9):\n",
    "        race_cols.append(race + str(i))\n",
    "        \n",
    "    x = state_raw.loc[:,race_cols]\n",
    "    return x\n"
   ]
  },
  {
   "cell_type": "code",
   "execution_count": 100,
   "metadata": {},
   "outputs": [],
   "source": [
    "cleaned_race = race_cleaning(race_raw)"
   ]
  },
  {
   "cell_type": "code",
   "execution_count": 102,
   "metadata": {},
   "outputs": [],
   "source": [
    "def change_names_race(state):\n",
    "    cols_rename = {\n",
    "         'B02001_002': 'White alone',\n",
    "         'B02001_003': 'Black or African American alone',\n",
    "         'B02001_004': 'American Indian and Alaska Native alone',\n",
    "         'B02001_005': 'Asian alone',\n",
    "         'B02001_006': 'Native Hawaiian and Other Pacific Islander alone',\n",
    "         'B02001_007': 'Some other race alone',\n",
    "         'B02001_008': 'Two or more races'\n",
    "        \n",
    "    }\n",
    "    \n",
    "    state.rename(columns = cols_rename,inplace=True)\n",
    "    \n",
    "    return state"
   ]
  },
  {
   "cell_type": "code",
   "execution_count": 103,
   "metadata": {},
   "outputs": [
    {
     "data": {
      "text/html": [
       "<div>\n",
       "<style scoped>\n",
       "    .dataframe tbody tr th:only-of-type {\n",
       "        vertical-align: middle;\n",
       "    }\n",
       "\n",
       "    .dataframe tbody tr th {\n",
       "        vertical-align: top;\n",
       "    }\n",
       "\n",
       "    .dataframe thead th {\n",
       "        text-align: right;\n",
       "    }\n",
       "</style>\n",
       "<table border=\"1\" class=\"dataframe\">\n",
       "  <thead>\n",
       "    <tr style=\"text-align: right;\">\n",
       "      <th></th>\n",
       "      <th>State</th>\n",
       "      <th>White alone</th>\n",
       "      <th>Black or African American alone</th>\n",
       "      <th>American Indian and Alaska Native alone</th>\n",
       "      <th>Asian alone</th>\n",
       "      <th>Native Hawaiian and Other Pacific Islander alone</th>\n",
       "      <th>Some other race alone</th>\n",
       "      <th>Two or more races</th>\n",
       "    </tr>\n",
       "  </thead>\n",
       "  <tbody>\n",
       "    <tr>\n",
       "      <th>12</th>\n",
       "      <td>AK</td>\n",
       "      <td>630</td>\n",
       "      <td>231</td>\n",
       "      <td>1119</td>\n",
       "      <td>974</td>\n",
       "      <td>36</td>\n",
       "      <td>134</td>\n",
       "      <td>175</td>\n",
       "    </tr>\n",
       "  </tbody>\n",
       "</table>\n",
       "</div>"
      ],
      "text/plain": [
       "   State  White alone  Black or African American alone  \\\n",
       "12    AK          630                              231   \n",
       "\n",
       "    American Indian and Alaska Native alone  Asian alone  \\\n",
       "12                                     1119          974   \n",
       "\n",
       "    Native Hawaiian and Other Pacific Islander alone  Some other race alone  \\\n",
       "12                                                36                    134   \n",
       "\n",
       "    Two or more races  \n",
       "12                175  "
      ]
     },
     "execution_count": 103,
     "metadata": {},
     "output_type": "execute_result"
    }
   ],
   "source": [
    "cleaned_race_final = change_names_race(cleaned_race)\n",
    "cleaned_race_final.head(1)"
   ]
  },
  {
   "cell_type": "raw",
   "metadata": {},
   "source": []
  },
  {
   "cell_type": "markdown",
   "metadata": {},
   "source": [
    "## Health insurance variable\n",
    "\n",
    "* b27001_001: HEALTH INSURANCE COVERAGE\n",
    "* b27002_001: PRIVATE HEALTH INSURANCE\n",
    "* b27003_001: PUBLIC HEALTH INSURANCE\n",
    "* c27004_001: EMPLOYER-BASED HEALTH INSURANCE \n",
    "* c27005_001: DIRECT-PURCHASE HEALTH INSURANCE\n",
    "* c27006_001: MEDICARE COVERAGE\n",
    "* c27007_001: MEDICAID/MEANS-TESTED PUBLIC COVERAGE\n",
    "* c27008_001: TRICARE/MILITARY HEALTH COVERAGE\n",
    "* c27009_001: VA HEALTH CARE\n",
    "\n",
    "\n",
    "\n"
   ]
  },
  {
   "cell_type": "code",
   "execution_count": 17,
   "metadata": {},
   "outputs": [],
   "source": [
    "healthcare_raw = raw_data_all_states('Health_insurance')"
   ]
  },
  {
   "cell_type": "code",
   "execution_count": 24,
   "metadata": {},
   "outputs": [],
   "source": [
    "def healthcare_cleaning(state_raw):\n",
    "\n",
    "    insurance_cols =['State']\n",
    "    insurance_b = 'B2700'\n",
    "    insurance_c = 'C2700'\n",
    "    finish= '_001'\n",
    "    for i in range (1,4):\n",
    "        insurance_cols.append(insurance_b + str(i) + finish)\n",
    "    for i in range (4,10):\n",
    "        insurance_cols.append(insurance_c + str(i) + finish)\n",
    "        \n",
    "    x = state_raw.loc[:,insurance_cols]\n",
    "    return x\n",
    "\n"
   ]
  },
  {
   "cell_type": "code",
   "execution_count": 25,
   "metadata": {},
   "outputs": [],
   "source": [
    "cleaned_healthcare= healthcare_cleaning(healthcare_raw)"
   ]
  },
  {
   "cell_type": "code",
   "execution_count": 29,
   "metadata": {},
   "outputs": [
    {
     "data": {
      "text/html": [
       "<div>\n",
       "<style scoped>\n",
       "    .dataframe tbody tr th:only-of-type {\n",
       "        vertical-align: middle;\n",
       "    }\n",
       "\n",
       "    .dataframe tbody tr th {\n",
       "        vertical-align: top;\n",
       "    }\n",
       "\n",
       "    .dataframe thead th {\n",
       "        text-align: right;\n",
       "    }\n",
       "</style>\n",
       "<table border=\"1\" class=\"dataframe\">\n",
       "  <thead>\n",
       "    <tr style=\"text-align: right;\">\n",
       "      <th></th>\n",
       "      <th>State</th>\n",
       "      <th>B27001_001</th>\n",
       "      <th>B27002_001</th>\n",
       "      <th>B27003_001</th>\n",
       "      <th>C27004_001</th>\n",
       "      <th>C27005_001</th>\n",
       "      <th>C27006_001</th>\n",
       "      <th>C27007_001</th>\n",
       "      <th>C27008_001</th>\n",
       "      <th>C27009_001</th>\n",
       "    </tr>\n",
       "  </thead>\n",
       "  <tbody>\n",
       "    <tr>\n",
       "      <th>12</th>\n",
       "      <td>AK</td>\n",
       "      <td>3294</td>\n",
       "      <td>3294</td>\n",
       "      <td>3294</td>\n",
       "      <td>3294</td>\n",
       "      <td>3294</td>\n",
       "      <td>3294</td>\n",
       "      <td>3294</td>\n",
       "      <td>3294</td>\n",
       "      <td>3294</td>\n",
       "    </tr>\n",
       "  </tbody>\n",
       "</table>\n",
       "</div>"
      ],
      "text/plain": [
       "   State  B27001_001  B27002_001  B27003_001  C27004_001  C27005_001  \\\n",
       "12    AK        3294        3294        3294        3294        3294   \n",
       "\n",
       "    C27006_001  C27007_001  C27008_001  C27009_001  \n",
       "12        3294        3294        3294        3294  "
      ]
     },
     "execution_count": 29,
     "metadata": {},
     "output_type": "execute_result"
    }
   ],
   "source": [
    "cleaned_healthcare.head(1)"
   ]
  },
  {
   "cell_type": "code",
   "execution_count": 30,
   "metadata": {},
   "outputs": [],
   "source": [
    "def change_names_healthcare(state):\n",
    "    cols_rename = {\n",
    "        'B27001_001': 'HEALTH INSURANCE COVERAGE',\n",
    "        'B27002_001': 'PRIVATE HEALTH INSURANCE',\n",
    "        'B27003_001': 'PUBLIC HEALTH INSURANCE',\n",
    "        'C27004_001': 'EMPLOYER-BASED HEALTH INSURANCE',\n",
    "        'C27005_001': 'DIRECT-PURCHASE HEALTH INSURANCE',\n",
    "        'C27006_001': 'MEDICARE COVERAGE',\n",
    "        'C27007_001': 'MEDICAID/MEANS-TESTED PUBLIC COVERAGE',\n",
    "        'C27008_001': 'TRICARE/MILITARY HEALTH COVERAGE',\n",
    "        'C27009_001': 'VA HEALTH CARE'\n",
    "    }\n",
    "    state.rename(columns= cols_rename, inplace=True)\n",
    "    return state"
   ]
  },
  {
   "cell_type": "code",
   "execution_count": 31,
   "metadata": {},
   "outputs": [],
   "source": [
    "Cleaned_healthcare_final= change_names_healthcare(cleaned_healthcare)"
   ]
  },
  {
   "cell_type": "code",
   "execution_count": 32,
   "metadata": {},
   "outputs": [
    {
     "data": {
      "text/html": [
       "<div>\n",
       "<style scoped>\n",
       "    .dataframe tbody tr th:only-of-type {\n",
       "        vertical-align: middle;\n",
       "    }\n",
       "\n",
       "    .dataframe tbody tr th {\n",
       "        vertical-align: top;\n",
       "    }\n",
       "\n",
       "    .dataframe thead th {\n",
       "        text-align: right;\n",
       "    }\n",
       "</style>\n",
       "<table border=\"1\" class=\"dataframe\">\n",
       "  <thead>\n",
       "    <tr style=\"text-align: right;\">\n",
       "      <th></th>\n",
       "      <th>State</th>\n",
       "      <th>HEALTH INSURANCE COVERAGE</th>\n",
       "      <th>PRIVATE HEALTH INSURANCE</th>\n",
       "      <th>PUBLIC HEALTH INSURANCE</th>\n",
       "      <th>EMPLOYER-BASED HEALTH INSURANCE</th>\n",
       "      <th>DIRECT-PURCHASE HEALTH INSURANCE</th>\n",
       "      <th>MEDICARE COVERAGE</th>\n",
       "      <th>MEDICAID/MEANS-TESTED PUBLIC COVERAGE</th>\n",
       "      <th>TRICARE/MILITARY HEALTH COVERAGE</th>\n",
       "      <th>VA HEALTH CARE</th>\n",
       "    </tr>\n",
       "  </thead>\n",
       "  <tbody>\n",
       "    <tr>\n",
       "      <th>12</th>\n",
       "      <td>AK</td>\n",
       "      <td>3294</td>\n",
       "      <td>3294</td>\n",
       "      <td>3294</td>\n",
       "      <td>3294</td>\n",
       "      <td>3294</td>\n",
       "      <td>3294</td>\n",
       "      <td>3294</td>\n",
       "      <td>3294</td>\n",
       "      <td>3294</td>\n",
       "    </tr>\n",
       "  </tbody>\n",
       "</table>\n",
       "</div>"
      ],
      "text/plain": [
       "   State  HEALTH INSURANCE COVERAGE  PRIVATE HEALTH INSURANCE  \\\n",
       "12    AK                       3294                      3294   \n",
       "\n",
       "    PUBLIC HEALTH INSURANCE  EMPLOYER-BASED HEALTH INSURANCE  \\\n",
       "12                     3294                             3294   \n",
       "\n",
       "    DIRECT-PURCHASE HEALTH INSURANCE  MEDICARE COVERAGE  \\\n",
       "12                              3294               3294   \n",
       "\n",
       "    MEDICAID/MEANS-TESTED PUBLIC COVERAGE  TRICARE/MILITARY HEALTH COVERAGE  \\\n",
       "12                                   3294                              3294   \n",
       "\n",
       "    VA HEALTH CARE  \n",
       "12            3294  "
      ]
     },
     "execution_count": 32,
     "metadata": {},
     "output_type": "execute_result"
    }
   ],
   "source": [
    "Cleaned_healthcare_final.head(1)"
   ]
  },
  {
   "cell_type": "markdown",
   "metadata": {},
   "source": [
    "## Education variable\n",
    "## \n",
    "\n",
    "\n",
    "\n",
    "* c15002a: EDUCATIONAL ATTAINMENT (WHITE ALONE)\n",
    "* c15002b: EDUCATIONAL ATTAINMENT (BLACK OR AFRICAN AMERICAN ALONE)\n",
    "* c15002c: EDUCATIONAL ATTAINMENT (AMERICAN INDIAN AND ALASKA NATIVE ALONE)\n",
    "* c15002d: EDUCATIONAL ATTAINMENT (ASIAN ALONE)\n",
    "* c15002e: EDUCATIONAL ATTAINMENT (NATIVE HAWAIIAN AND OTHER PACIFIC ISLANDER ALONE)\n",
    "* c15002f: EDUCATIONAL ATTAINMENT (SOME OTHER RACE ALONE)\n",
    "* c15002g: EDUCATIONAL ATTAINMENT (TWO OR MORE RACES)\n",
    "* c15002h: EDUCATIONAL ATTAINMENT (WHITE ALONE, NOT HISPANIC OR LATINO)\n",
    "* c15002i: EDUCATIONAL ATTAINMENT (HISPANIC OR LATINO)\n",
    "\n",
    "\n",
    "\n",
    "* c15010a:\tFIELD OF BACHELOR'S DEGREE  (WHITE ALONE)\n",
    "* c15010b:\tFIELD OF BACHELOR'S DEGREE  (BLACK OR AFRICAN AMERICAN ALONE)\n",
    "* c15010c:\tFIELD OF BACHELOR'S DEGREE  (AMERICAN INDIAN AND ALASKA NATIVE ALONE)\n",
    "* c15010d:\tFIELD OF BACHELOR'S DEGREE  (ASIAN ALONE)\n",
    "* c15010e:\tFIELD OF BACHELOR'S DEGREE  (NATIVE HAWAIIAN AND OTHER PACIFIC ISLANDER ALONE)\n",
    "* c15010f:\tFIELD OF BACHELOR'S DEGREE  (SOME OTHER RACE ALONE)\n",
    "* c15010g:\tFIELD OF BACHELOR'S DEGREE  (TWO OR MORE RACES)\n",
    "* c15010h:\tFIELD OF BACHELOR'S DEGREE  (WHITE ALONE, NOT HISPANIC OR LATINO)\n",
    "* c15010i:\tFIELD OF BACHELOR'S DEGREE  (HISPANIC OR LATINO)\n",
    "\n",
    "\n"
   ]
  },
  {
   "cell_type": "code",
   "execution_count": 34,
   "metadata": {},
   "outputs": [],
   "source": [
    "education_raw = raw_data_all_states('Education')"
   ]
  },
  {
   "cell_type": "code",
   "execution_count": 91,
   "metadata": {},
   "outputs": [
    {
     "data": {
      "text/html": [
       "<div>\n",
       "<style scoped>\n",
       "    .dataframe tbody tr th:only-of-type {\n",
       "        vertical-align: middle;\n",
       "    }\n",
       "\n",
       "    .dataframe tbody tr th {\n",
       "        vertical-align: top;\n",
       "    }\n",
       "\n",
       "    .dataframe thead th {\n",
       "        text-align: right;\n",
       "    }\n",
       "</style>\n",
       "<table border=\"1\" class=\"dataframe\">\n",
       "  <thead>\n",
       "    <tr style=\"text-align: right;\">\n",
       "      <th></th>\n",
       "      <th>SummaryLevel</th>\n",
       "      <th>State</th>\n",
       "      <th>StateFIPS</th>\n",
       "      <th>CountyFIPS</th>\n",
       "      <th>PlaceFIPS</th>\n",
       "      <th>CBSACode</th>\n",
       "      <th>CongressDistrict</th>\n",
       "      <th>GEOID</th>\n",
       "      <th>AreaName</th>\n",
       "      <th>B15001_001</th>\n",
       "      <th>...</th>\n",
       "      <th>C15010H_003</th>\n",
       "      <th>C15010H_004</th>\n",
       "      <th>C15010H_005</th>\n",
       "      <th>C15010H_006</th>\n",
       "      <th>C15010I_001</th>\n",
       "      <th>C15010I_002</th>\n",
       "      <th>C15010I_003</th>\n",
       "      <th>C15010I_004</th>\n",
       "      <th>C15010I_005</th>\n",
       "      <th>C15010I_006</th>\n",
       "    </tr>\n",
       "  </thead>\n",
       "  <tbody>\n",
       "    <tr>\n",
       "      <th>12</th>\n",
       "      <td>50</td>\n",
       "      <td>AK</td>\n",
       "      <td>2</td>\n",
       "      <td>13.0</td>\n",
       "      <td>NaN</td>\n",
       "      <td>NaN</td>\n",
       "      <td>NaN</td>\n",
       "      <td>05000US02013</td>\n",
       "      <td>Aleutians East Borough, Alaska</td>\n",
       "      <td>2892</td>\n",
       "      <td>...</td>\n",
       "      <td>12</td>\n",
       "      <td>8</td>\n",
       "      <td>20</td>\n",
       "      <td>17</td>\n",
       "      <td>8</td>\n",
       "      <td>2</td>\n",
       "      <td>0</td>\n",
       "      <td>0</td>\n",
       "      <td>0</td>\n",
       "      <td>6</td>\n",
       "    </tr>\n",
       "  </tbody>\n",
       "</table>\n",
       "<p>1 rows × 366 columns</p>\n",
       "</div>"
      ],
      "text/plain": [
       "    SummaryLevel State  StateFIPS  CountyFIPS  PlaceFIPS  CBSACode  \\\n",
       "12            50    AK          2        13.0        NaN       NaN   \n",
       "\n",
       "    CongressDistrict         GEOID                        AreaName  \\\n",
       "12               NaN  05000US02013  Aleutians East Borough, Alaska   \n",
       "\n",
       "    B15001_001  ...  C15010H_003  C15010H_004  C15010H_005  C15010H_006  \\\n",
       "12        2892  ...           12            8           20           17   \n",
       "\n",
       "    C15010I_001  C15010I_002  C15010I_003  C15010I_004  C15010I_005  \\\n",
       "12            8            2            0            0            0   \n",
       "\n",
       "    C15010I_006  \n",
       "12            6  \n",
       "\n",
       "[1 rows x 366 columns]"
      ]
     },
     "execution_count": 91,
     "metadata": {},
     "output_type": "execute_result"
    }
   ],
   "source": [
    "education_raw.head(1)"
   ]
  },
  {
   "cell_type": "code",
   "execution_count": 95,
   "metadata": {},
   "outputs": [
    {
     "data": {
      "text/plain": [
       "12      96\n",
       "13      49\n",
       "14    1038\n",
       "15     848\n",
       "16      15\n",
       "      ... \n",
       "30      38\n",
       "31      28\n",
       "32       3\n",
       "33       0\n",
       "34       0\n",
       "Name: C15002C_003, Length: 3220, dtype: int64"
      ]
     },
     "execution_count": 95,
     "metadata": {},
     "output_type": "execute_result"
    }
   ],
   "source": [
    "education_raw['C15002C_003']"
   ]
  },
  {
   "cell_type": "code",
   "execution_count": 86,
   "metadata": {},
   "outputs": [],
   "source": [
    "def education_cleaning(state_raw):\n",
    "    education_cols = ['State', 'AreaName']\n",
    "    education_cols1 = 'C15002'\n",
    "    education_cols2 = 'C15010'\n",
    "    y = ['a','b','c','d','e','f','g','h','i']\n",
    "    for i in range(len(y)):\n",
    "        education_cols.append(education_cols1 + y[i])\n",
    "        education_cols.append(education_cols2 + y[i])\n",
    "        \n",
    "    x = state_raw.loc[:,education_cols]\n",
    "    return x"
   ]
  },
  {
   "cell_type": "code",
   "execution_count": null,
   "metadata": {},
   "outputs": [],
   "source": [
    "education_cols = ['State', 'AreaName']\n",
    "education_cols1 = 'c15002'\n",
    "education_cols2 = 'c15010'\n",
    "y = ['a','b','c','d','e','f','g','h','i']\n",
    "for i in range(len(y)):\n",
    "    education_cols.append(education_cols1 + y[i])\n",
    "    education_cols.append(education_cols2 + y[i])\n",
    "        \n",
    "print(education_cols)\n"
   ]
  },
  {
   "cell_type": "code",
   "execution_count": 87,
   "metadata": {},
   "outputs": [
    {
     "ename": "KeyError",
     "evalue": "\"Passing list-likes to .loc or [] with any missing labels is no longer supported. The following labels were missing: Index(['C15002a', 'C15010a', 'C15002b', 'C15010b', 'C15002c',\\n       ...\\n       'C15010g', 'C15002h', 'C15010h', 'C15002i', 'C15010i'],\\n      dtype='object', length=18). See https://pandas.pydata.org/pandas-docs/stable/user_guide/indexing.html#deprecate-loc-reindex-listlike\"",
     "output_type": "error",
     "traceback": [
      "\u001b[1;31m---------------------------------------------------------------------------\u001b[0m",
      "\u001b[1;31mKeyError\u001b[0m                                  Traceback (most recent call last)",
      "\u001b[1;32m<ipython-input-87-af66aeed028b>\u001b[0m in \u001b[0;36m<module>\u001b[1;34m\u001b[0m\n\u001b[1;32m----> 1\u001b[1;33m \u001b[0mcleaned_education\u001b[0m \u001b[1;33m=\u001b[0m \u001b[0meducation_cleaning\u001b[0m\u001b[1;33m(\u001b[0m\u001b[0meducation_raw\u001b[0m\u001b[1;33m)\u001b[0m\u001b[1;33m\u001b[0m\u001b[1;33m\u001b[0m\u001b[0m\n\u001b[0m",
      "\u001b[1;32m<ipython-input-86-d02ed852bc89>\u001b[0m in \u001b[0;36meducation_cleaning\u001b[1;34m(state_raw)\u001b[0m\n\u001b[0;32m      8\u001b[0m         \u001b[0meducation_cols\u001b[0m\u001b[1;33m.\u001b[0m\u001b[0mappend\u001b[0m\u001b[1;33m(\u001b[0m\u001b[0meducation_cols2\u001b[0m \u001b[1;33m+\u001b[0m \u001b[0my\u001b[0m\u001b[1;33m[\u001b[0m\u001b[0mi\u001b[0m\u001b[1;33m]\u001b[0m\u001b[1;33m)\u001b[0m\u001b[1;33m\u001b[0m\u001b[1;33m\u001b[0m\u001b[0m\n\u001b[0;32m      9\u001b[0m \u001b[1;33m\u001b[0m\u001b[0m\n\u001b[1;32m---> 10\u001b[1;33m     \u001b[0mx\u001b[0m \u001b[1;33m=\u001b[0m \u001b[0mstate_raw\u001b[0m\u001b[1;33m.\u001b[0m\u001b[0mloc\u001b[0m\u001b[1;33m[\u001b[0m\u001b[1;33m:\u001b[0m\u001b[1;33m,\u001b[0m\u001b[0meducation_cols\u001b[0m\u001b[1;33m]\u001b[0m\u001b[1;33m\u001b[0m\u001b[1;33m\u001b[0m\u001b[0m\n\u001b[0m\u001b[0;32m     11\u001b[0m     \u001b[1;32mreturn\u001b[0m \u001b[0mx\u001b[0m\u001b[1;33m\u001b[0m\u001b[1;33m\u001b[0m\u001b[0m\n",
      "\u001b[1;32md:\\python\\lib\\site-packages\\pandas\\core\\indexing.py\u001b[0m in \u001b[0;36m__getitem__\u001b[1;34m(self, key)\u001b[0m\n\u001b[0;32m    887\u001b[0m                     \u001b[1;31m# AttributeError for IntervalTree get_value\u001b[0m\u001b[1;33m\u001b[0m\u001b[1;33m\u001b[0m\u001b[1;33m\u001b[0m\u001b[0m\n\u001b[0;32m    888\u001b[0m                     \u001b[1;32mreturn\u001b[0m \u001b[0mself\u001b[0m\u001b[1;33m.\u001b[0m\u001b[0mobj\u001b[0m\u001b[1;33m.\u001b[0m\u001b[0m_get_value\u001b[0m\u001b[1;33m(\u001b[0m\u001b[1;33m*\u001b[0m\u001b[0mkey\u001b[0m\u001b[1;33m,\u001b[0m \u001b[0mtakeable\u001b[0m\u001b[1;33m=\u001b[0m\u001b[0mself\u001b[0m\u001b[1;33m.\u001b[0m\u001b[0m_takeable\u001b[0m\u001b[1;33m)\u001b[0m\u001b[1;33m\u001b[0m\u001b[1;33m\u001b[0m\u001b[0m\n\u001b[1;32m--> 889\u001b[1;33m             \u001b[1;32mreturn\u001b[0m \u001b[0mself\u001b[0m\u001b[1;33m.\u001b[0m\u001b[0m_getitem_tuple\u001b[0m\u001b[1;33m(\u001b[0m\u001b[0mkey\u001b[0m\u001b[1;33m)\u001b[0m\u001b[1;33m\u001b[0m\u001b[1;33m\u001b[0m\u001b[0m\n\u001b[0m\u001b[0;32m    890\u001b[0m         \u001b[1;32melse\u001b[0m\u001b[1;33m:\u001b[0m\u001b[1;33m\u001b[0m\u001b[1;33m\u001b[0m\u001b[0m\n\u001b[0;32m    891\u001b[0m             \u001b[1;31m# we by definition only have the 0th axis\u001b[0m\u001b[1;33m\u001b[0m\u001b[1;33m\u001b[0m\u001b[1;33m\u001b[0m\u001b[0m\n",
      "\u001b[1;32md:\\python\\lib\\site-packages\\pandas\\core\\indexing.py\u001b[0m in \u001b[0;36m_getitem_tuple\u001b[1;34m(self, tup)\u001b[0m\n\u001b[0;32m   1067\u001b[0m             \u001b[1;32mreturn\u001b[0m \u001b[0mself\u001b[0m\u001b[1;33m.\u001b[0m\u001b[0m_multi_take\u001b[0m\u001b[1;33m(\u001b[0m\u001b[0mtup\u001b[0m\u001b[1;33m)\u001b[0m\u001b[1;33m\u001b[0m\u001b[1;33m\u001b[0m\u001b[0m\n\u001b[0;32m   1068\u001b[0m \u001b[1;33m\u001b[0m\u001b[0m\n\u001b[1;32m-> 1069\u001b[1;33m         \u001b[1;32mreturn\u001b[0m \u001b[0mself\u001b[0m\u001b[1;33m.\u001b[0m\u001b[0m_getitem_tuple_same_dim\u001b[0m\u001b[1;33m(\u001b[0m\u001b[0mtup\u001b[0m\u001b[1;33m)\u001b[0m\u001b[1;33m\u001b[0m\u001b[1;33m\u001b[0m\u001b[0m\n\u001b[0m\u001b[0;32m   1070\u001b[0m \u001b[1;33m\u001b[0m\u001b[0m\n\u001b[0;32m   1071\u001b[0m     \u001b[1;32mdef\u001b[0m \u001b[0m_get_label\u001b[0m\u001b[1;33m(\u001b[0m\u001b[0mself\u001b[0m\u001b[1;33m,\u001b[0m \u001b[0mlabel\u001b[0m\u001b[1;33m,\u001b[0m \u001b[0maxis\u001b[0m\u001b[1;33m:\u001b[0m \u001b[0mint\u001b[0m\u001b[1;33m)\u001b[0m\u001b[1;33m:\u001b[0m\u001b[1;33m\u001b[0m\u001b[1;33m\u001b[0m\u001b[0m\n",
      "\u001b[1;32md:\\python\\lib\\site-packages\\pandas\\core\\indexing.py\u001b[0m in \u001b[0;36m_getitem_tuple_same_dim\u001b[1;34m(self, tup)\u001b[0m\n\u001b[0;32m    773\u001b[0m                 \u001b[1;32mcontinue\u001b[0m\u001b[1;33m\u001b[0m\u001b[1;33m\u001b[0m\u001b[0m\n\u001b[0;32m    774\u001b[0m \u001b[1;33m\u001b[0m\u001b[0m\n\u001b[1;32m--> 775\u001b[1;33m             \u001b[0mretval\u001b[0m \u001b[1;33m=\u001b[0m \u001b[0mgetattr\u001b[0m\u001b[1;33m(\u001b[0m\u001b[0mretval\u001b[0m\u001b[1;33m,\u001b[0m \u001b[0mself\u001b[0m\u001b[1;33m.\u001b[0m\u001b[0mname\u001b[0m\u001b[1;33m)\u001b[0m\u001b[1;33m.\u001b[0m\u001b[0m_getitem_axis\u001b[0m\u001b[1;33m(\u001b[0m\u001b[0mkey\u001b[0m\u001b[1;33m,\u001b[0m \u001b[0maxis\u001b[0m\u001b[1;33m=\u001b[0m\u001b[0mi\u001b[0m\u001b[1;33m)\u001b[0m\u001b[1;33m\u001b[0m\u001b[1;33m\u001b[0m\u001b[0m\n\u001b[0m\u001b[0;32m    776\u001b[0m             \u001b[1;31m# We should never have retval.ndim < self.ndim, as that should\u001b[0m\u001b[1;33m\u001b[0m\u001b[1;33m\u001b[0m\u001b[1;33m\u001b[0m\u001b[0m\n\u001b[0;32m    777\u001b[0m             \u001b[1;31m#  be handled by the _getitem_lowerdim call above.\u001b[0m\u001b[1;33m\u001b[0m\u001b[1;33m\u001b[0m\u001b[1;33m\u001b[0m\u001b[0m\n",
      "\u001b[1;32md:\\python\\lib\\site-packages\\pandas\\core\\indexing.py\u001b[0m in \u001b[0;36m_getitem_axis\u001b[1;34m(self, key, axis)\u001b[0m\n\u001b[0;32m   1111\u001b[0m                     \u001b[1;32mraise\u001b[0m \u001b[0mValueError\u001b[0m\u001b[1;33m(\u001b[0m\u001b[1;34m\"Cannot index with multidimensional key\"\u001b[0m\u001b[1;33m)\u001b[0m\u001b[1;33m\u001b[0m\u001b[1;33m\u001b[0m\u001b[0m\n\u001b[0;32m   1112\u001b[0m \u001b[1;33m\u001b[0m\u001b[0m\n\u001b[1;32m-> 1113\u001b[1;33m                 \u001b[1;32mreturn\u001b[0m \u001b[0mself\u001b[0m\u001b[1;33m.\u001b[0m\u001b[0m_getitem_iterable\u001b[0m\u001b[1;33m(\u001b[0m\u001b[0mkey\u001b[0m\u001b[1;33m,\u001b[0m \u001b[0maxis\u001b[0m\u001b[1;33m=\u001b[0m\u001b[0maxis\u001b[0m\u001b[1;33m)\u001b[0m\u001b[1;33m\u001b[0m\u001b[1;33m\u001b[0m\u001b[0m\n\u001b[0m\u001b[0;32m   1114\u001b[0m \u001b[1;33m\u001b[0m\u001b[0m\n\u001b[0;32m   1115\u001b[0m             \u001b[1;31m# nested tuple slicing\u001b[0m\u001b[1;33m\u001b[0m\u001b[1;33m\u001b[0m\u001b[1;33m\u001b[0m\u001b[0m\n",
      "\u001b[1;32md:\\python\\lib\\site-packages\\pandas\\core\\indexing.py\u001b[0m in \u001b[0;36m_getitem_iterable\u001b[1;34m(self, key, axis)\u001b[0m\n\u001b[0;32m   1051\u001b[0m \u001b[1;33m\u001b[0m\u001b[0m\n\u001b[0;32m   1052\u001b[0m         \u001b[1;31m# A collection of keys\u001b[0m\u001b[1;33m\u001b[0m\u001b[1;33m\u001b[0m\u001b[1;33m\u001b[0m\u001b[0m\n\u001b[1;32m-> 1053\u001b[1;33m         \u001b[0mkeyarr\u001b[0m\u001b[1;33m,\u001b[0m \u001b[0mindexer\u001b[0m \u001b[1;33m=\u001b[0m \u001b[0mself\u001b[0m\u001b[1;33m.\u001b[0m\u001b[0m_get_listlike_indexer\u001b[0m\u001b[1;33m(\u001b[0m\u001b[0mkey\u001b[0m\u001b[1;33m,\u001b[0m \u001b[0maxis\u001b[0m\u001b[1;33m,\u001b[0m \u001b[0mraise_missing\u001b[0m\u001b[1;33m=\u001b[0m\u001b[1;32mFalse\u001b[0m\u001b[1;33m)\u001b[0m\u001b[1;33m\u001b[0m\u001b[1;33m\u001b[0m\u001b[0m\n\u001b[0m\u001b[0;32m   1054\u001b[0m         return self.obj._reindex_with_indexers(\n\u001b[0;32m   1055\u001b[0m             \u001b[1;33m{\u001b[0m\u001b[0maxis\u001b[0m\u001b[1;33m:\u001b[0m \u001b[1;33m[\u001b[0m\u001b[0mkeyarr\u001b[0m\u001b[1;33m,\u001b[0m \u001b[0mindexer\u001b[0m\u001b[1;33m]\u001b[0m\u001b[1;33m}\u001b[0m\u001b[1;33m,\u001b[0m \u001b[0mcopy\u001b[0m\u001b[1;33m=\u001b[0m\u001b[1;32mTrue\u001b[0m\u001b[1;33m,\u001b[0m \u001b[0mallow_dups\u001b[0m\u001b[1;33m=\u001b[0m\u001b[1;32mTrue\u001b[0m\u001b[1;33m\u001b[0m\u001b[1;33m\u001b[0m\u001b[0m\n",
      "\u001b[1;32md:\\python\\lib\\site-packages\\pandas\\core\\indexing.py\u001b[0m in \u001b[0;36m_get_listlike_indexer\u001b[1;34m(self, key, axis, raise_missing)\u001b[0m\n\u001b[0;32m   1264\u001b[0m             \u001b[0mkeyarr\u001b[0m\u001b[1;33m,\u001b[0m \u001b[0mindexer\u001b[0m\u001b[1;33m,\u001b[0m \u001b[0mnew_indexer\u001b[0m \u001b[1;33m=\u001b[0m \u001b[0max\u001b[0m\u001b[1;33m.\u001b[0m\u001b[0m_reindex_non_unique\u001b[0m\u001b[1;33m(\u001b[0m\u001b[0mkeyarr\u001b[0m\u001b[1;33m)\u001b[0m\u001b[1;33m\u001b[0m\u001b[1;33m\u001b[0m\u001b[0m\n\u001b[0;32m   1265\u001b[0m \u001b[1;33m\u001b[0m\u001b[0m\n\u001b[1;32m-> 1266\u001b[1;33m         \u001b[0mself\u001b[0m\u001b[1;33m.\u001b[0m\u001b[0m_validate_read_indexer\u001b[0m\u001b[1;33m(\u001b[0m\u001b[0mkeyarr\u001b[0m\u001b[1;33m,\u001b[0m \u001b[0mindexer\u001b[0m\u001b[1;33m,\u001b[0m \u001b[0maxis\u001b[0m\u001b[1;33m,\u001b[0m \u001b[0mraise_missing\u001b[0m\u001b[1;33m=\u001b[0m\u001b[0mraise_missing\u001b[0m\u001b[1;33m)\u001b[0m\u001b[1;33m\u001b[0m\u001b[1;33m\u001b[0m\u001b[0m\n\u001b[0m\u001b[0;32m   1267\u001b[0m         \u001b[1;32mreturn\u001b[0m \u001b[0mkeyarr\u001b[0m\u001b[1;33m,\u001b[0m \u001b[0mindexer\u001b[0m\u001b[1;33m\u001b[0m\u001b[1;33m\u001b[0m\u001b[0m\n\u001b[0;32m   1268\u001b[0m \u001b[1;33m\u001b[0m\u001b[0m\n",
      "\u001b[1;32md:\\python\\lib\\site-packages\\pandas\\core\\indexing.py\u001b[0m in \u001b[0;36m_validate_read_indexer\u001b[1;34m(self, key, indexer, axis, raise_missing)\u001b[0m\n\u001b[0;32m   1319\u001b[0m \u001b[1;33m\u001b[0m\u001b[0m\n\u001b[0;32m   1320\u001b[0m             \u001b[1;32mwith\u001b[0m \u001b[0moption_context\u001b[0m\u001b[1;33m(\u001b[0m\u001b[1;34m\"display.max_seq_items\"\u001b[0m\u001b[1;33m,\u001b[0m \u001b[1;36m10\u001b[0m\u001b[1;33m,\u001b[0m \u001b[1;34m\"display.width\"\u001b[0m\u001b[1;33m,\u001b[0m \u001b[1;36m80\u001b[0m\u001b[1;33m)\u001b[0m\u001b[1;33m:\u001b[0m\u001b[1;33m\u001b[0m\u001b[1;33m\u001b[0m\u001b[0m\n\u001b[1;32m-> 1321\u001b[1;33m                 raise KeyError(\n\u001b[0m\u001b[0;32m   1322\u001b[0m                     \u001b[1;34m\"Passing list-likes to .loc or [] with any missing labels \"\u001b[0m\u001b[1;33m\u001b[0m\u001b[1;33m\u001b[0m\u001b[0m\n\u001b[0;32m   1323\u001b[0m                     \u001b[1;34m\"is no longer supported. \"\u001b[0m\u001b[1;33m\u001b[0m\u001b[1;33m\u001b[0m\u001b[0m\n",
      "\u001b[1;31mKeyError\u001b[0m: \"Passing list-likes to .loc or [] with any missing labels is no longer supported. The following labels were missing: Index(['C15002a', 'C15010a', 'C15002b', 'C15010b', 'C15002c',\\n       ...\\n       'C15010g', 'C15002h', 'C15010h', 'C15002i', 'C15010i'],\\n      dtype='object', length=18). See https://pandas.pydata.org/pandas-docs/stable/user_guide/indexing.html#deprecate-loc-reindex-listlike\""
     ]
    }
   ],
   "source": [
    "cleaned_education = education_cleaning(education_raw)"
   ]
  },
  {
   "cell_type": "markdown",
   "metadata": {},
   "source": [
    "### Building pipeline"
   ]
  },
  {
   "cell_type": "code",
   "execution_count": null,
   "metadata": {},
   "outputs": [],
   "source": [
    "clean_pipeline = Pipeline([\n",
    "    \n",
    "])"
   ]
  }
 ],
 "metadata": {
  "kernelspec": {
   "display_name": "Python 3",
   "language": "python",
   "name": "python3"
  },
  "language_info": {
   "codemirror_mode": {
    "name": "ipython",
    "version": 3
   },
   "file_extension": ".py",
   "mimetype": "text/x-python",
   "name": "python",
   "nbconvert_exporter": "python",
   "pygments_lexer": "ipython3",
   "version": "3.8.7"
  }
 },
 "nbformat": 4,
 "nbformat_minor": 2
}
