{
 "metadata": {
  "language_info": {
   "codemirror_mode": {
    "name": "ipython",
    "version": 3
   },
   "file_extension": ".py",
   "mimetype": "text/x-python",
   "name": "python",
   "nbconvert_exporter": "python",
   "pygments_lexer": "ipython3",
   "version": "3.8.6-candidate1"
  },
  "orig_nbformat": 2,
  "kernelspec": {
   "name": "python386jvsc74a57bd0c61731d8f7c4f1da77cbad515f8c2ebe6cb7e230b50f067f2e33022859eb5993",
   "display_name": "Python 3.8.6 64-bit"
  }
 },
 "nbformat": 4,
 "nbformat_minor": 2,
 "cells": [
  {
   "source": [
    "# Pipeline for cleaning and transformations"
   ],
   "cell_type": "markdown",
   "metadata": {}
  },
  {
   "cell_type": "code",
   "execution_count": 1,
   "metadata": {},
   "outputs": [],
   "source": [
    "import pandas as pd"
   ]
  },
  {
   "source": [
    "Variables:\n",
    "\n",
    "* Income\n",
    "* Age\n",
    "* Sex\n",
    "* Race\n",
    "* Insurance\n",
    "* Education"
   ],
   "cell_type": "markdown",
   "metadata": {}
  },
  {
   "source": [
    "This test is going to be for a single state (Alaska AK) and then modularized to be used to all states\n",
    "\n",
    "**Important note:**  summary level 50 should be used to have county fips"
   ],
   "cell_type": "markdown",
   "metadata": {}
  },
  {
   "source": [
    "## Income variables\n",
    "\n",
    "All refer to HOUSEHOLD INCOME IN THE PAST 12 MONTHS (IN 2016 INFLATION-ADJUSTED DOLLARS) for Households\n",
    "\n",
    "* b19001_002: <10,000\n",
    "* b19001_003: 10,000 ~ 14,999\n",
    "* b19001_004: 15,000 ~ 19,999\n",
    "* b19001_005: 20,000 ~ 24,999\n",
    "* b19001_006: 25,000 ~ 29,999\n",
    "* b19001_007: 30,000 ~ 34,999\n",
    "* b19001_008: 35,000 ~ 39,999\n",
    "* b19001_009: 40,000 ~ 44,999\n",
    "* b19001_010: 45,000 ~ 49,999\n",
    "* b19001_011: 50,000 ~ 59,999\n",
    "* b19001_012: 60,000 ~ 74,999\n",
    "* b19001_013: 75,000 ~ 99,999\n",
    "* b19001_014: 100,000 ~ 124,999\n",
    "* b19001_015: 125,000 ~ 149,999\n",
    "* b19001_016: 150,000 ~ 199,999\n",
    "* b19001_017: 200,000+\n",
    "\n",
    "This are the variables that we're going to use for our analysis. Other features are not going to be eliminated"
   ],
   "cell_type": "markdown",
   "metadata": {}
  },
  {
   "cell_type": "code",
   "execution_count": 3,
   "metadata": {},
   "outputs": [
    {
     "output_type": "execute_result",
     "data": {
      "text/plain": [
       "   SummaryLevel State  StateFIPS  CountyFIPS  PlaceFIPS  CBSACode  \\\n",
       "0            40    AK          2         NaN        NaN       NaN   \n",
       "\n",
       "   CongressDistrict      GEOID AreaName  B19001_001  ...  B19325_093  \\\n",
       "0               NaN  04000US02   Alaska      250235  ...        2953   \n",
       "\n",
       "   B19325_094  B19325_095  B19326_001  B19326_002  B19326_003  B19326_004  \\\n",
       "0        3527        2450       31944       40197       61240       19058   \n",
       "\n",
       "   B19326_005  B19326_006  B19326_007  \n",
       "0       25706       47792       13310  \n",
       "\n",
       "[1 rows x 1505 columns]"
      ],
      "text/html": "<div>\n<style scoped>\n    .dataframe tbody tr th:only-of-type {\n        vertical-align: middle;\n    }\n\n    .dataframe tbody tr th {\n        vertical-align: top;\n    }\n\n    .dataframe thead th {\n        text-align: right;\n    }\n</style>\n<table border=\"1\" class=\"dataframe\">\n  <thead>\n    <tr style=\"text-align: right;\">\n      <th></th>\n      <th>SummaryLevel</th>\n      <th>State</th>\n      <th>StateFIPS</th>\n      <th>CountyFIPS</th>\n      <th>PlaceFIPS</th>\n      <th>CBSACode</th>\n      <th>CongressDistrict</th>\n      <th>GEOID</th>\n      <th>AreaName</th>\n      <th>B19001_001</th>\n      <th>...</th>\n      <th>B19325_093</th>\n      <th>B19325_094</th>\n      <th>B19325_095</th>\n      <th>B19326_001</th>\n      <th>B19326_002</th>\n      <th>B19326_003</th>\n      <th>B19326_004</th>\n      <th>B19326_005</th>\n      <th>B19326_006</th>\n      <th>B19326_007</th>\n    </tr>\n  </thead>\n  <tbody>\n    <tr>\n      <th>0</th>\n      <td>40</td>\n      <td>AK</td>\n      <td>2</td>\n      <td>NaN</td>\n      <td>NaN</td>\n      <td>NaN</td>\n      <td>NaN</td>\n      <td>04000US02</td>\n      <td>Alaska</td>\n      <td>250235</td>\n      <td>...</td>\n      <td>2953</td>\n      <td>3527</td>\n      <td>2450</td>\n      <td>31944</td>\n      <td>40197</td>\n      <td>61240</td>\n      <td>19058</td>\n      <td>25706</td>\n      <td>47792</td>\n      <td>13310</td>\n    </tr>\n  </tbody>\n</table>\n<p>1 rows × 1505 columns</p>\n</div>"
     },
     "metadata": {},
     "execution_count": 3
    }
   ],
   "source": [
    "income_raw = pd.read_csv('AK_income.csv')\n",
    "income_raw.head(1)"
   ]
  },
  {
   "source": [
    "## Age & Sex variables\n",
    "\n",
    "This features refer to SEX BY AGE for Total Population (Male)\n",
    "\n",
    "* b01001_003: <5\n",
    "* b01001_004: 5 ~ 9\n",
    "* b01001_005: 10 ~ 14\n",
    "* b01001_006: 15 ~ 17\n",
    "* b01001_007: 18 ~ 19\n",
    "* b01001_008: 20\n",
    "* b01001_009: 21\n",
    "* b01001_010: 22 ~ 24\n",
    "* b01001_011: 25 ~ 29\n",
    "* b01001_012: 30 ~ 34\n",
    "* b01001_013: 35 ~ 39\n",
    "* b01001_014: 40 ~ 44\n",
    "* b01001_015: 45 ~ 49\n",
    "* b01001_016: 50 ~ 54\n",
    "* b01001_017: 55 ~ 59\n",
    "* b01001_018: 60 ~ 61\n",
    "* b01001_019: 62 ~ 64\n",
    "* b01001_020: 65 ~ 66\n",
    "* b01001_021: 67 ~ 69\n",
    "* b01001_022: 70 ~ 74\n",
    "* b01001_023: 75 ~ 79\n",
    "* b01001_024: 80 ~ 84\n",
    "* b01001_025: 85+\n",
    "\n",
    "This features refer to SEX BY AGE for Total Population (Female)\n",
    "\n",
    "* b01001_027: <5\n",
    "* b01001_028: 5 ~ 9\n",
    "* b01001_029: 10 ~ 14\n",
    "* b01001_030: 15 ~ 17\n",
    "* b01001_031: 18 ~ 19\n",
    "* b01001_032: 20\n",
    "* b01001_033: 21\n",
    "* b01001_034: 22 ~ 24\n",
    "* b01001_035: 25 ~ 29\n",
    "* b01001_036: 30 ~ 34\n",
    "* b01001_037: 35 ~ 39\n",
    "* b01001_038: 40 ~ 44\n",
    "* b01001_039: 45 ~ 49\n",
    "* b01001_040: 50 ~ 54\n",
    "* b01001_041: 55 ~ 59\n",
    "* b01001_042: 60 ~ 61\n",
    "* b01001_043: 62 ~ 64\n",
    "* b01001_044: 65 ~ 66\n",
    "* b01001_045: 67 ~ 69\n",
    "* b01001_046: 70 ~ 74\n",
    "* b01001_047: 75 ~ 79\n",
    "* b01001_048: 80 ~ 84\n",
    "* b01001_049: 85+"
   ],
   "cell_type": "markdown",
   "metadata": {}
  },
  {
   "cell_type": "code",
   "execution_count": 4,
   "metadata": {},
   "outputs": [
    {
     "output_type": "execute_result",
     "data": {
      "text/plain": [
       "   SummaryLevel State  StateFIPS  CountyFIPS  PlaceFIPS  CBSACode  \\\n",
       "0            40    AK          2         NaN        NaN       NaN   \n",
       "\n",
       "   CongressDistrict      GEOID AreaName  B01001_001  ...  B01002G_001  \\\n",
       "0               NaN  04000US02   Alaska      736855  ...         19.7   \n",
       "\n",
       "   B01002G_002  B01002G_003  B01002H_001  B01002H_002  B01002H_003  \\\n",
       "0         19.3         20.2         38.2         37.9         38.6   \n",
       "\n",
       "   B01002I_001  B01002I_002  B01002I_003  B01003_001  \n",
       "0         24.9         24.5         25.6      736855  \n",
       "\n",
       "[1 rows x 368 columns]"
      ],
      "text/html": "<div>\n<style scoped>\n    .dataframe tbody tr th:only-of-type {\n        vertical-align: middle;\n    }\n\n    .dataframe tbody tr th {\n        vertical-align: top;\n    }\n\n    .dataframe thead th {\n        text-align: right;\n    }\n</style>\n<table border=\"1\" class=\"dataframe\">\n  <thead>\n    <tr style=\"text-align: right;\">\n      <th></th>\n      <th>SummaryLevel</th>\n      <th>State</th>\n      <th>StateFIPS</th>\n      <th>CountyFIPS</th>\n      <th>PlaceFIPS</th>\n      <th>CBSACode</th>\n      <th>CongressDistrict</th>\n      <th>GEOID</th>\n      <th>AreaName</th>\n      <th>B01001_001</th>\n      <th>...</th>\n      <th>B01002G_001</th>\n      <th>B01002G_002</th>\n      <th>B01002G_003</th>\n      <th>B01002H_001</th>\n      <th>B01002H_002</th>\n      <th>B01002H_003</th>\n      <th>B01002I_001</th>\n      <th>B01002I_002</th>\n      <th>B01002I_003</th>\n      <th>B01003_001</th>\n    </tr>\n  </thead>\n  <tbody>\n    <tr>\n      <th>0</th>\n      <td>40</td>\n      <td>AK</td>\n      <td>2</td>\n      <td>NaN</td>\n      <td>NaN</td>\n      <td>NaN</td>\n      <td>NaN</td>\n      <td>04000US02</td>\n      <td>Alaska</td>\n      <td>736855</td>\n      <td>...</td>\n      <td>19.7</td>\n      <td>19.3</td>\n      <td>20.2</td>\n      <td>38.2</td>\n      <td>37.9</td>\n      <td>38.6</td>\n      <td>24.9</td>\n      <td>24.5</td>\n      <td>25.6</td>\n      <td>736855</td>\n    </tr>\n  </tbody>\n</table>\n<p>1 rows × 368 columns</p>\n</div>"
     },
     "metadata": {},
     "execution_count": 4
    }
   ],
   "source": [
    "age_sex_raw = pd.read_csv('AK_age_sex.csv')\n",
    "age_sex_raw.head(1)"
   ]
  },
  {
   "source": [
    "## Race variable\n",
    "\n",
    "This features refer to RACE for Total Population\n",
    "\n",
    "* b02001_002: White alone\n",
    "* b02001_003: Black or African American alone\n",
    "* b02001_004: American Indian and Alaska Native alone\n",
    "* b02001_005: Asian alone\n",
    "* b02001_006: Native Hawaiian and Other Pacific Islander alone\n",
    "* b02001_007: Some other race alone\n",
    "* b02001_008: Two or more races"
   ],
   "cell_type": "markdown",
   "metadata": {}
  },
  {
   "cell_type": "code",
   "execution_count": 5,
   "metadata": {},
   "outputs": [
    {
     "output_type": "execute_result",
     "data": {
      "text/plain": [
       "   SummaryLevel State  StateFIPS  CountyFIPS  PlaceFIPS  CBSACode  \\\n",
       "0            40    AK          2         NaN        NaN       NaN   \n",
       "\n",
       "   CongressDistrict      GEOID AreaName  B02001_001  ...  C02003_010  \\\n",
       "0               NaN  04000US02   Alaska      736855  ...        3056   \n",
       "\n",
       "   C02003_011  C02003_012  C02003_013  C02003_014  C02003_015  C02003_016  \\\n",
       "0       59284       56929        7319       32356        7883        1924   \n",
       "\n",
       "   C02003_017  C02003_018  C02003_019  \n",
       "0        7447        4767         644  \n",
       "\n",
       "[1 rows x 225 columns]"
      ],
      "text/html": "<div>\n<style scoped>\n    .dataframe tbody tr th:only-of-type {\n        vertical-align: middle;\n    }\n\n    .dataframe tbody tr th {\n        vertical-align: top;\n    }\n\n    .dataframe thead th {\n        text-align: right;\n    }\n</style>\n<table border=\"1\" class=\"dataframe\">\n  <thead>\n    <tr style=\"text-align: right;\">\n      <th></th>\n      <th>SummaryLevel</th>\n      <th>State</th>\n      <th>StateFIPS</th>\n      <th>CountyFIPS</th>\n      <th>PlaceFIPS</th>\n      <th>CBSACode</th>\n      <th>CongressDistrict</th>\n      <th>GEOID</th>\n      <th>AreaName</th>\n      <th>B02001_001</th>\n      <th>...</th>\n      <th>C02003_010</th>\n      <th>C02003_011</th>\n      <th>C02003_012</th>\n      <th>C02003_013</th>\n      <th>C02003_014</th>\n      <th>C02003_015</th>\n      <th>C02003_016</th>\n      <th>C02003_017</th>\n      <th>C02003_018</th>\n      <th>C02003_019</th>\n    </tr>\n  </thead>\n  <tbody>\n    <tr>\n      <th>0</th>\n      <td>40</td>\n      <td>AK</td>\n      <td>2</td>\n      <td>NaN</td>\n      <td>NaN</td>\n      <td>NaN</td>\n      <td>NaN</td>\n      <td>04000US02</td>\n      <td>Alaska</td>\n      <td>736855</td>\n      <td>...</td>\n      <td>3056</td>\n      <td>59284</td>\n      <td>56929</td>\n      <td>7319</td>\n      <td>32356</td>\n      <td>7883</td>\n      <td>1924</td>\n      <td>7447</td>\n      <td>4767</td>\n      <td>644</td>\n    </tr>\n  </tbody>\n</table>\n<p>1 rows × 225 columns</p>\n</div>"
     },
     "metadata": {},
     "execution_count": 5
    }
   ],
   "source": [
    "race_raw = pd.read_csv('AK_race.csv')\n",
    "race_raw.head(1)"
   ]
  },
  {
   "source": [
    "## Health insurance variable\n",
    "\n",
    "* b27001_001: HEALTH INSURANCE COVERAGE\n",
    "* b27002_001: PRIVATE HEALTH INSURANCE\n",
    "* b27003_001: PUBLIC HEALTH INSURANCE\n",
    "* c27004_001: EMPLOYER-BASED HEALTH INSURANCE \n",
    "* c27005_001: DIRECT-PURCHASE HEALTH INSURANCE\n",
    "* c27006_001: MEDICARE COVERAGE\n",
    "* c27007_001: MEDICAID/MEANS-TESTED PUBLIC COVERAGE\n",
    "* c27008_001: TRICARE/MILITARY HEALTH COVERAGE\n",
    "* c27009_001: VA HEALTH CARE\n",
    "\n",
    "\n"
   ],
   "cell_type": "markdown",
   "metadata": {}
  },
  {
   "cell_type": "code",
   "execution_count": null,
   "metadata": {},
   "outputs": [],
   "source": [
    "insurance_raw = pd.read_csv('AK_insurance.csv')\n",
    "insurance_raw.head(1)"
   ]
  },
  {
   "cell_type": "code",
   "execution_count": null,
   "metadata": {},
   "outputs": [],
   "source": [
    "## Education variable\n",
    "\n"
   ]
  }
 ]
}