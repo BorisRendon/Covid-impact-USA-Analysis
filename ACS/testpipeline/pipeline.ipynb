{
 "cells": [
  {
   "cell_type": "markdown",
   "metadata": {},
   "source": [
    "# Pipeline for cleaning and transformations"
   ]
  },
  {
   "cell_type": "code",
   "execution_count": 1,
   "metadata": {},
   "outputs": [],
   "source": [
    "import pandas as pd\n",
    "from sklearn.pipeline import Pipeline\n",
    "import glob\n"
   ]
  },
  {
   "cell_type": "markdown",
   "metadata": {},
   "source": [
    "Variables:\n",
    "\n",
    "* Income\n",
    "* Age\n",
    "* Sex\n",
    "* Race\n",
    "* Insurance\n",
    "* Education"
   ]
  },
  {
   "cell_type": "markdown",
   "metadata": {},
   "source": [
    "This test is going to be for a single state (Alaska AK) and then modularized to be used to all states\n",
    "\n",
    "**Important note:**  summary level 50 should be used to have county fips"
   ]
  },
  {
   "cell_type": "markdown",
   "metadata": {},
   "source": [
    "## Income variables\n",
    "\n",
    "All refer to HOUSEHOLD INCOME IN THE PAST 12 MONTHS (IN 2016 INFLATION-ADJUSTED DOLLARS) for Households\n",
    "\n",
    "* b19001_002: <10,000 \n",
    "* b19001_003: 10,000 ~ 14,999\n",
    "* b19001_004: 15,000 ~ 19,999\n",
    "* b19001_005: 20,000 ~ 24,999\n",
    "* b19001_006: 25,000 ~ 29,999\n",
    "* b19001_007: 30,000 ~ 34,999\n",
    "* b19001_008: 35,000 ~ 39,999\n",
    "* b19001_009: 40,000 ~ 44,999\n",
    "* b19001_010: 45,000 ~ 49,999\n",
    "* b19001_011: 50,000 ~ 59,999\n",
    "* b19001_012: 60,000 ~ 74,999\n",
    "* b19001_013: 75,000 ~ 99,999\n",
    "* b19001_014: 100,000 ~ 124,999\n",
    "* b19001_015: 125,000 ~ 149,999\n",
    "* b19001_016: 150,000 ~ 199,999\n",
    "* b19001_017: 200,000+\n",
    "\n",
    "This are the variables that we're going to use for our analysis. Other features are not going to be eliminated"
   ]
  },
  {
   "cell_type": "code",
   "execution_count": 2,
   "metadata": {},
   "outputs": [],
   "source": [
    "def raw_data_all_states(folder):\n",
    "    raw_data=glob.glob(f'{folder}/*.csv')\n",
    "    feature=pd.DataFrame()\n",
    "    for f in raw_data:\n",
    "        file = pd.DataFrame(pd.read_csv(f,low_memory=False))\n",
    "        file=file.loc[file['SummaryLevel'] == 50]\n",
    "        feature=feature.append(file)\n",
    "        \n",
    "    return feature"
   ]
  },
  {
   "cell_type": "code",
   "execution_count": 3,
   "metadata": {},
   "outputs": [],
   "source": [
    "income_raw=raw_data_all_states('Income')"
   ]
  },
  {
   "cell_type": "code",
   "execution_count": 6,
   "metadata": {},
   "outputs": [],
   "source": [
    "\n",
    "def income_cleaning(state_raw):\n",
    "    income_cols = ['State','AreaName']\n",
    "    income_codes1 = 'B19001_00'\n",
    "    income_codes2 = 'B19001_0'\n",
    "    for i in range (2,10):\n",
    "        income_cols.append(income_codes1 + str(i))\n",
    "\n",
    "    for i in range(10,18):\n",
    "        income_cols.append(income_codes2 + str(i))\n",
    "\n",
    "    x = state_raw.loc[:,income_cols]  \n",
    "    return x"
   ]
  },
  {
   "cell_type": "code",
   "execution_count": 9,
   "metadata": {},
   "outputs": [],
   "source": [
    "cleaned_data = income_cleaning(income_raw)"
   ]
  },
  {
   "cell_type": "code",
   "execution_count": 12,
   "metadata": {},
   "outputs": [],
   "source": [
    "def change_names_income(state):\n",
    "    cols_rename = {\n",
    "                'B19001_002': '<10k',\n",
    "                'B19001_003': '10k ~ 14,999',\n",
    "                'B19001_004': '15k ~ 19,999',\n",
    "                'B19001_005': '20k ~ 24,999',\n",
    "                'B19001_006': '25k ~ 29,999',\n",
    "                'B19001_007': '30k ~ 34,999',\n",
    "                'B19001_008': '35k ~ 39,999',\n",
    "                'B19001_009': '40k ~ 44,999',\n",
    "                'B19001_010': '45k ~ 49,999',\n",
    "                'B19001_011': '50k ~ 59,999',\n",
    "                'B19001_012': '60k ~ 74,999',\n",
    "                'B19001_013': '75k ~ 99,999',\n",
    "                'B19001_014': '100k ~ 124,999',\n",
    "                'B19001_015': '125k ~ 149,999',\n",
    "                'B19001_016': '150k ~ 199,999',\n",
    "                'B19001_017': '200k+'\n",
    "                }\n",
    "    state.rename(columns = cols_rename, inplace = True)\n",
    "    \n",
    "    return state"
   ]
  },
  {
   "cell_type": "code",
   "execution_count": 13,
   "metadata": {},
   "outputs": [],
   "source": [
    "Cleaned_income=change_names_income(cleaned_data)"
   ]
  },
  {
   "cell_type": "markdown",
   "metadata": {},
   "source": [
    "## Age & Sex variables\n",
    "\n",
    "This features refer to SEX BY AGE for Total Population (Male)\n",
    "\n",
    "* b01001_003: <5\n",
    "* b01001_004: 5 ~ 9\n",
    "* b01001_005: 10 ~ 14\n",
    "* b01001_006: 15 ~ 17\n",
    "* b01001_007: 18 ~ 19\n",
    "* b01001_008: 20\n",
    "* b01001_009: 21\n",
    "* b01001_010: 22 ~ 24\n",
    "* b01001_011: 25 ~ 29\n",
    "* b01001_012: 30 ~ 34\n",
    "* b01001_013: 35 ~ 39\n",
    "* b01001_014: 40 ~ 44\n",
    "* b01001_015: 45 ~ 49\n",
    "* b01001_016: 50 ~ 54\n",
    "* b01001_017: 55 ~ 59\n",
    "* b01001_018: 60 ~ 61\n",
    "* b01001_019: 62 ~ 64\n",
    "* b01001_020: 65 ~ 66\n",
    "* b01001_021: 67 ~ 69\n",
    "* b01001_022: 70 ~ 74\n",
    "* b01001_023: 75 ~ 79\n",
    "* b01001_024: 80 ~ 84\n",
    "* b01001_025: 85+\n",
    "\n",
    "This features refer to SEX BY AGE for Total Population (Female)\n",
    "\n",
    "* b01001_027: <5\n",
    "* b01001_028: 5 ~ 9\n",
    "* b01001_029: 10 ~ 14\n",
    "* b01001_030: 15 ~ 17\n",
    "* b01001_031: 18 ~ 19\n",
    "* b01001_032: 20\n",
    "* b01001_033: 21\n",
    "* b01001_034: 22 ~ 24\n",
    "* b01001_035: 25 ~ 29\n",
    "* b01001_036: 30 ~ 34\n",
    "* b01001_037: 35 ~ 39\n",
    "* b01001_038: 40 ~ 44\n",
    "* b01001_039: 45 ~ 49\n",
    "* b01001_040: 50 ~ 54\n",
    "* b01001_041: 55 ~ 59\n",
    "* b01001_042: 60 ~ 61\n",
    "* b01001_043: 62 ~ 64\n",
    "* b01001_044: 65 ~ 66\n",
    "* b01001_045: 67 ~ 69\n",
    "* b01001_046: 70 ~ 74\n",
    "* b01001_047: 75 ~ 79\n",
    "* b01001_048: 80 ~ 84\n",
    "* b01001_049: 85+"
   ]
  },
  {
   "cell_type": "code",
   "execution_count": null,
   "metadata": {},
   "outputs": [],
   "source": [
    "age_sex_cols =['State']\n",
    "age_sex_male1 = 'B01001_00'\n",
    "age_sex_male2 = 'B01001_0'\n",
    "for i in range (3,10):\n",
    "    age_sex_cols.append(age_sex_male1 + str(i))\n",
    "for i in range (10,26):\n",
    "    age_sex_cols.append(age_sex_male2 + str(i))\n",
    "\n"
   ]
  },
  {
   "cell_type": "code",
   "execution_count": null,
   "metadata": {},
   "outputs": [],
   "source": [
    "age_sex_female = 'B01001_0'\n",
    "for i in range (27,50):\n",
    "    age_sex_cols.append(age_sex_female + str(i))"
   ]
  },
  {
   "cell_type": "code",
   "execution_count": null,
   "metadata": {},
   "outputs": [],
   "source": [
    "#age_sex_cols"
   ]
  },
  {
   "cell_type": "code",
   "execution_count": null,
   "metadata": {},
   "outputs": [],
   "source": [
    "age_sex_raw = pd.read_csv('AK_age_sex.csv')\n",
    "age_sex_raw.head(1)"
   ]
  },
  {
   "cell_type": "markdown",
   "metadata": {},
   "source": [
    "## Race variable\n",
    "\n",
    "This features refer to RACE for Total Population\n",
    "\n",
    "* b02001_002: White alone\n",
    "* b02001_003: Black or African American alone\n",
    "* b02001_004: American Indian and Alaska Native alone\n",
    "* b02001_005: Asian alone\n",
    "* b02001_006: Native Hawaiian and Other Pacific Islander alone\n",
    "* b02001_007: Some other race alone\n",
    "* b02001_008: Two or more races"
   ]
  },
  {
   "cell_type": "code",
   "execution_count": null,
   "metadata": {},
   "outputs": [],
   "source": [
    "race_raw = pd.read_csv('AK_race.csv')\n",
    "race_raw.head(1)"
   ]
  },
  {
   "cell_type": "code",
   "execution_count": null,
   "metadata": {},
   "outputs": [],
   "source": [
    "race_cols =['State']\n",
    "race = 'B02001_00'\n",
    "for i in range (2,9):\n",
    "    race_cols.append(race + str(i))\n"
   ]
  },
  {
   "cell_type": "code",
   "execution_count": null,
   "metadata": {},
   "outputs": [],
   "source": [
    "#race_cols"
   ]
  },
  {
   "cell_type": "raw",
   "metadata": {},
   "source": []
  },
  {
   "cell_type": "markdown",
   "metadata": {},
   "source": [
    "## Health insurance variable\n",
    "\n",
    "* b27001_001: HEALTH INSURANCE COVERAGE\n",
    "* b27002_001: PRIVATE HEALTH INSURANCE\n",
    "* b27003_001: PUBLIC HEALTH INSURANCE\n",
    "* c27004_001: EMPLOYER-BASED HEALTH INSURANCE \n",
    "* c27005_001: DIRECT-PURCHASE HEALTH INSURANCE\n",
    "* c27006_001: MEDICARE COVERAGE\n",
    "* c27007_001: MEDICAID/MEANS-TESTED PUBLIC COVERAGE\n",
    "* c27008_001: TRICARE/MILITARY HEALTH COVERAGE\n",
    "* c27009_001: VA HEALTH CARE\n",
    "\n",
    "\n"
   ]
  },
  {
   "cell_type": "code",
   "execution_count": null,
   "metadata": {},
   "outputs": [],
   "source": [
    "insurance_raw = pd.read_csv('AK_insurance.csv')\n",
    "insurance_raw.head(1)"
   ]
  },
  {
   "cell_type": "code",
   "execution_count": null,
   "metadata": {},
   "outputs": [],
   "source": [
    "insurance_cols =['State']\n",
    "insurance_b = 'B2700'\n",
    "insurance_c = 'C2700'\n",
    "finish= '_001'\n",
    "for i in range (1,4):\n",
    "    insurance_cols.append(insurance_b + str(i) + finish)\n",
    "for i in range (4,10):\n",
    "    insurance_cols.append(insurance_c + str(i) + finish)\n",
    "\n"
   ]
  },
  {
   "cell_type": "code",
   "execution_count": null,
   "metadata": {},
   "outputs": [],
   "source": [
    "#insurance_cols"
   ]
  },
  {
   "cell_type": "code",
   "execution_count": null,
   "metadata": {},
   "outputs": [],
   "source": [
    "alaska_insurance = insurance_raw.loc[[0, 1], insurance_cols]\n",
    "alaska_insurance.drop([1], inplace=True)\n",
    "alaska_insurance.head()"
   ]
  },
  {
   "cell_type": "code",
   "execution_count": null,
   "metadata": {},
   "outputs": [],
   "source": [
    "samples = insurance_raw.shape[0]\n",
    "keep_cols = []\n",
    "drop_cols = []\n",
    "\n",
    "\n",
    "for col in insurance_raw.columns:\n",
    "    nas = insurance_raw[col].isna().sum()\n",
    "    percent = round(100*nas/samples,2)\n",
    "    if nas > 0:\n",
    "        print('{0:<20} {1:<20} {2}%'.format(col,nas,percent))\n",
    "    if percent < 30:\n",
    "        keep_cols.append(col)\n",
    "    else:\n",
    "        drop_cols.append(col)"
   ]
  },
  {
   "cell_type": "code",
   "execution_count": null,
   "metadata": {},
   "outputs": [],
   "source": [
    "print(\"Kepp cols: \",keep_cols , \"\\n\\n Drop cols:\" , drop_cols)"
   ]
  },
  {
   "cell_type": "code",
   "execution_count": null,
   "metadata": {},
   "outputs": [],
   "source": [
    "## Education variable\n",
    "\n"
   ]
  }
 ],
 "metadata": {
  "kernelspec": {
   "display_name": "Python 3",
   "language": "python",
   "name": "python3"
  },
  "language_info": {
   "codemirror_mode": {
    "name": "ipython",
    "version": 3
   },
   "file_extension": ".py",
   "mimetype": "text/x-python",
   "name": "python",
   "nbconvert_exporter": "python",
   "pygments_lexer": "ipython3",
   "version": "3.8.7"
  }
 },
 "nbformat": 4,
 "nbformat_minor": 2
}
